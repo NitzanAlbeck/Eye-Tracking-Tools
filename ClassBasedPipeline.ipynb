{
 "cells": [
  {
   "cell_type": "code",
   "execution_count": 1,
   "metadata": {
    "collapsed": true
   },
   "outputs": [],
   "source": [
    "from block_sync_class import *\n",
    "from bokeh.plotting import figure, show"
   ]
  },
  {
   "cell_type": "code",
   "execution_count": 2,
   "outputs": [
    {
     "name": "stdout",
     "output_type": "stream",
     "text": [
      "instantiated block number 0 at Path: D:\\experiments\\Animal_1000\\26_05_2021\\block_0\n"
     ]
    }
   ],
   "source": [
    "block_0 = BlockSync(animal_num='1000',\n",
    "                    experiment_date='26_05_2021',\n",
    "                    block_num='0',\n",
    "                    path_to_animal_folder=r'D:\\experiments\\\\')"
   ],
   "metadata": {
    "collapsed": false,
    "pycharm": {
     "name": "#%%\n"
    }
   }
  },
  {
   "cell_type": "code",
   "execution_count": 3,
   "outputs": [
    {
     "name": "stdout",
     "output_type": "stream",
     "text": [
      "Arena video Names:\n",
      "calib_long_back_20210526_132415.mp4\n",
      "calib_long_left_20210526_132415.mp4\n",
      "calib_long_right_20210526_132415.mp4\n",
      "calib_long_top_20210526_132415.mp4\n"
     ]
    }
   ],
   "source": [
    "block_0.handle_arena_files()"
   ],
   "metadata": {
    "collapsed": false,
    "pycharm": {
     "name": "#%%\n"
    }
   }
  },
  {
   "cell_type": "code",
   "execution_count": 4,
   "outputs": [
    {
     "name": "stdout",
     "output_type": "stream",
     "text": [
      "converting videos...\n",
      "converting files: []\n",
      "found no eye videos to handle...\n"
     ]
    }
   ],
   "source": [
    "block_0.handle_eye_videos()"
   ],
   "metadata": {
    "collapsed": false,
    "pycharm": {
     "name": "#%%\n"
    }
   }
  },
  {
   "cell_type": "code",
   "execution_count": 5,
   "outputs": [
    {
     "name": "stderr",
     "output_type": "stream",
     "text": [
      "100%|██████████| 12451/12451 [00:11<00:00, 1064.17it/s]\n"
     ]
    },
    {
     "name": "stdout",
     "output_type": "stream",
     "text": [
      "Synchronizing the different arena videos\n",
      "The anchor video used was \"calib_long_back_20210526_132415.mp4\"\n"
     ]
    }
   ],
   "source": [
    "block_0.synchronize_arena_timestamps()\n"
   ],
   "metadata": {
    "collapsed": false,
    "pycharm": {
     "name": "#%%\n"
    }
   }
  },
  {
   "cell_type": "code",
   "execution_count": 7,
   "outputs": [
    {
     "data": {
      "text/plain": "       calib_long_back_20210526_132415.mp4  \\\n0                                        0   \n1                                        1   \n2                                        2   \n3                                        3   \n4                                        4   \n...                                    ...   \n12446                                12446   \n12447                                12447   \n12448                                12448   \n12449                                12449   \n12450                                12450   \n\n      calib_long_left_20210526_132415.mp4  \\\n0                                       0   \n1                                       1   \n2                                       2   \n3                                       3   \n4                                       4   \n...                                   ...   \n12446                               12446   \n12447                               12447   \n12448                               12448   \n12449                               12449   \n12450                               12450   \n\n      calib_long_right_20210526_132415.mp4 calib_long_top_20210526_132415.mp4  \n0                                        1                                  1  \n1                                        1                                  1  \n2                                        2                                  2  \n3                                        3                                  3  \n4                                        4                                  4  \n...                                    ...                                ...  \n12446                                12446                              12446  \n12447                                12447                              12447  \n12448                                12448                              12448  \n12449                                12449                              12449  \n12450                                12450                              12450  \n\n[12451 rows x 4 columns]",
      "text/html": "<div>\n<style scoped>\n    .dataframe tbody tr th:only-of-type {\n        vertical-align: middle;\n    }\n\n    .dataframe tbody tr th {\n        vertical-align: top;\n    }\n\n    .dataframe thead th {\n        text-align: right;\n    }\n</style>\n<table border=\"1\" class=\"dataframe\">\n  <thead>\n    <tr style=\"text-align: right;\">\n      <th></th>\n      <th>calib_long_back_20210526_132415.mp4</th>\n      <th>calib_long_left_20210526_132415.mp4</th>\n      <th>calib_long_right_20210526_132415.mp4</th>\n      <th>calib_long_top_20210526_132415.mp4</th>\n    </tr>\n  </thead>\n  <tbody>\n    <tr>\n      <th>0</th>\n      <td>0</td>\n      <td>0</td>\n      <td>1</td>\n      <td>1</td>\n    </tr>\n    <tr>\n      <th>1</th>\n      <td>1</td>\n      <td>1</td>\n      <td>1</td>\n      <td>1</td>\n    </tr>\n    <tr>\n      <th>2</th>\n      <td>2</td>\n      <td>2</td>\n      <td>2</td>\n      <td>2</td>\n    </tr>\n    <tr>\n      <th>3</th>\n      <td>3</td>\n      <td>3</td>\n      <td>3</td>\n      <td>3</td>\n    </tr>\n    <tr>\n      <th>4</th>\n      <td>4</td>\n      <td>4</td>\n      <td>4</td>\n      <td>4</td>\n    </tr>\n    <tr>\n      <th>...</th>\n      <td>...</td>\n      <td>...</td>\n      <td>...</td>\n      <td>...</td>\n    </tr>\n    <tr>\n      <th>12446</th>\n      <td>12446</td>\n      <td>12446</td>\n      <td>12446</td>\n      <td>12446</td>\n    </tr>\n    <tr>\n      <th>12447</th>\n      <td>12447</td>\n      <td>12447</td>\n      <td>12447</td>\n      <td>12447</td>\n    </tr>\n    <tr>\n      <th>12448</th>\n      <td>12448</td>\n      <td>12448</td>\n      <td>12448</td>\n      <td>12448</td>\n    </tr>\n    <tr>\n      <th>12449</th>\n      <td>12449</td>\n      <td>12449</td>\n      <td>12449</td>\n      <td>12449</td>\n    </tr>\n    <tr>\n      <th>12450</th>\n      <td>12450</td>\n      <td>12450</td>\n      <td>12450</td>\n      <td>12450</td>\n    </tr>\n  </tbody>\n</table>\n<p>12451 rows × 4 columns</p>\n</div>"
     },
     "execution_count": 7,
     "metadata": {},
     "output_type": "execute_result"
    }
   ],
   "source": [
    "block_0.arena_sync_df"
   ],
   "metadata": {
    "collapsed": false,
    "pycharm": {
     "name": "#%%\n"
    }
   }
  }
 ],
 "metadata": {
  "kernelspec": {
   "display_name": "Python 3",
   "language": "python",
   "name": "python3"
  },
  "language_info": {
   "codemirror_mode": {
    "name": "ipython",
    "version": 2
   },
   "file_extension": ".py",
   "mimetype": "text/x-python",
   "name": "python",
   "nbconvert_exporter": "python",
   "pygments_lexer": "ipython2",
   "version": "2.7.6"
  }
 },
 "nbformat": 4,
 "nbformat_minor": 0
}