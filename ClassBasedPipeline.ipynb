{
 "cells": [
  {
   "cell_type": "code",
   "execution_count": null,
   "metadata": {
    "collapsed": true
   },
   "outputs": [],
   "source": [
    "from block_sync_class import *\n",
    "from bokeh.plotting import figure, show\n",
    "import pickle\n",
    "import time\n"
   ]
  },
  {
   "cell_type": "code",
   "execution_count": null,
   "outputs": [],
   "source": [
    "blockdict = {}\n",
    "for i in range(8):\n",
    "    blockdict[f'block_{i}'] = BlockSync(animal_num='4',\n",
    "                                        experiment_date='18_07_2021',\n",
    "                                        block_num=str(i),\n",
    "                                        path_to_animal_folder=r'D:\\\\experiments\\\\')"
   ],
   "metadata": {
    "collapsed": false,
    "pycharm": {
     "name": "#%% create the blockdict\n"
    }
   }
  },
  {
   "cell_type": "code",
   "execution_count": null,
   "outputs": [],
   "source": [
    "for i in range(1):\n",
    "    block = blockdict[f'block_{i}']\n",
    "    block.handle_arena_files()\n",
    "    block.handle_eye_videos()\n",
    "    block.synchronize_arena_timestamps()\n",
    "    block.create_arena_brightness_df(250, export=True)"
   ],
   "metadata": {
    "collapsed": false,
    "pycharm": {
     "name": "#%%\n"
    }
   }
  },
  {
   "cell_type": "code",
   "execution_count": null,
   "outputs": [],
   "source": [
    "for i in range(1):\n",
    "    block = blockdict[f'block_{i}']\n",
    "    block.import_open_ephys_events()\n",
    "    block.synchronize_block()\n",
    "    block.update_arena_bdf()\n",
    "    block.create_eye_brightness_df(30)\n",
    "    block.validate_eye_synchronization()"
   ],
   "metadata": {
    "collapsed": false,
    "pycharm": {
     "name": "#%%\n"
    }
   }
  },
  {
   "cell_type": "code",
   "execution_count": null,
   "outputs": [],
   "source": [
    "block=blockdict[f'block_0']\n",
    "block.synchronize_by_led_blink(threshold_value_for_eyes=30)\n",
    "block.block_plot()"
   ],
   "metadata": {
    "collapsed": false,
    "pycharm": {
     "name": "#%%\n"
    }
   }
  },
  {
   "cell_type": "code",
   "execution_count": null,
   "outputs": [],
   "source": [
    "block = blockdict['block_0']\n",
    "block.arena_vidnames[1]"
   ],
   "metadata": {
    "collapsed": false,
    "pycharm": {
     "name": "#%%\n"
    }
   }
  },
  {
   "cell_type": "code",
   "execution_count": null,
   "outputs": [],
   "source": [
    "for i in range(1):\n",
    "    block = blockdict[f'block_{i}']\n",
    "    vid_to_use = None\n",
    "    if i in [0,1,4,7]:\n",
    "        vid_to_use = block.arena_vidnames[1]\n",
    "        print(f'synchronizing with {vid_to_use}')\n",
    "    block.synchronize_by_led_blink(arena_vid_to_use=vid_to_use)"
   ],
   "metadata": {
    "collapsed": false,
    "pycharm": {
     "name": "#%%\n"
    }
   }
  },
  {
   "cell_type": "code",
   "execution_count": null,
   "outputs": [],
   "source": [
    "block_0 = blockdict.pop('block_0')\n",
    "block_4 = blockdict.pop('block_4')"
   ],
   "metadata": {
    "collapsed": false,
    "pycharm": {
     "name": "#%% Drop any unsychronized videos here\n"
    }
   }
  },
  {
   "cell_type": "code",
   "execution_count": null,
   "outputs": [],
   "source": [
    "block_4.validate_arena_synchronization_bdf()"
   ],
   "metadata": {
    "collapsed": false,
    "pycharm": {
     "name": "#%% try to synchronize them here\n"
    }
   }
  },
  {
   "cell_type": "code",
   "execution_count": null,
   "outputs": [],
   "source": [
    "blockdict['block_0'] = block_0"
   ],
   "metadata": {
    "collapsed": false,
    "pycharm": {
     "name": "#%% return them to the dictionary here\n"
    }
   }
  },
  {
   "cell_type": "code",
   "execution_count": null,
   "outputs": [],
   "source": [
    "for i in range(8):\n",
    "    if f'block_{i}' in blockdict.keys():\n",
    "        block = blockdict[f'block_{i}']\n",
    "    else:\n",
    "        continue\n",
    "    block.create_synced_videos_validated()\n",
    "    block.export_everything()"
   ],
   "metadata": {
    "collapsed": false,
    "pycharm": {
     "name": "#%% When the synchronization is validated\n"
    }
   }
  },
  {
   "cell_type": "code",
   "execution_count": null,
   "outputs": [],
   "source": [
    "for block in blocklist:\n",
    "    start = time.time()\n",
    "    block.create_arena_brightness_df(threshold_value=255, export=True)\n",
    "    end = time.time()\n",
    "    print(f'this one took {end - start} seconds')"
   ],
   "metadata": {
    "collapsed": false,
    "pycharm": {
     "name": "#%%\n"
    }
   }
  },
  {
   "cell_type": "code",
   "execution_count": null,
   "outputs": [],
   "source": [
    "for block in blocklist:\n",
    "    #block.validate_arena_synchronization()\n",
    "    block.import_open_ephys_events()\n",
    "    block.synchronize_block()\n",
    "    block.update_arena_bdf()\n",
    "    block.create_eye_brightness_df(threshold_value=30)\n",
    "    block.synchronize_by_led_blink()\n",
    "    \n",
    "    file_to_save_to = open(block.block_path / 'BlockSync.pickle','wb')\n",
    "    pickle.dump(block, file_to_save_to)\n",
    "    file_to_save_to.close()\n",
    "    print(f'block number {block.block_num} saved')\n",
    "\n",
    "\n",
    "##### PHASE 2 #####"
   ],
   "metadata": {
    "collapsed": false,
    "pycharm": {
     "name": "#%%\n"
    }
   }
  },
  {
   "cell_type": "code",
   "execution_count": null,
   "outputs": [],
   "source": [
    "from block_sync_class import *\n",
    "from bokeh.plotting import figure, show\n",
    "import pickle\n",
    "import time\n",
    "from bokeh.models import HoverTool\n",
    "from block_sync_class import *\n",
    "from bokeh.plotting import figure, show\n",
    "from matplotlib import pyplot as plt\n",
    "from matplotlib.ticker import (MultipleLocator, AutoMinorLocator)"
   ],
   "metadata": {
    "collapsed": false,
    "pycharm": {
     "name": "#%%\n"
    }
   }
  },
  {
   "cell_type": "code",
   "execution_count": null,
   "outputs": [],
   "source": [
    "blockdict = {}\n",
    "for i in range(8):\n",
    "    blockdict[f'block_{i}'] = BlockSync(animal_num='4',\n",
    "                                        experiment_date='18_07_2021',\n",
    "                                        block_num=str(i),\n",
    "                                        path_to_animal_folder=r'D:\\\\experiments\\\\')"
   ],
   "metadata": {
    "collapsed": false,
    "pycharm": {
     "name": "#%% define the blockdict:\n"
    }
   }
  },
  {
   "cell_type": "code",
   "execution_count": null,
   "outputs": [],
   "source": [
    "del blockdict['block_4']\n",
    "blockdict"
   ],
   "metadata": {
    "collapsed": false,
    "pycharm": {
     "name": "#%% remove block 4 SPECIFICALLY FOR THE 18_07_2021 TRIALS!!!\n"
    }
   }
  },
  {
   "cell_type": "code",
   "execution_count": null,
   "outputs": [],
   "source": [
    "blockdict['block_2'].block_plot()\n"
   ],
   "metadata": {
    "collapsed": false,
    "pycharm": {
     "name": "#%%\n"
    }
   }
  },
  {
   "cell_type": "code",
   "execution_count": null,
   "outputs": [],
   "source": [
    "for num in range(8):\n",
    "    if num == 1:\n",
    "        print(f'working on block {num}')\n",
    "        block = blockdict[f'block_{num}']\n",
    "        block.handle_arena_files()\n",
    "        block.handle_eye_videos()\n",
    "        block.synchronize_arena_timestamps(get_only_anchor_vid=True)\n",
    "        block.import_everything()\n",
    "        block.read_dlc_data()\n",
    "        block.get_image_events_frames()\n",
    "        #block.led_speed_analysis(plot_graph=False,speed_threshold=0.007)\n",
    "        #block.pupil_speed_graph(smooth_velocities=True)\n",
    "        #block.block_plot()"
   ],
   "metadata": {
    "collapsed": false,
    "pycharm": {
     "name": "#%%\n"
    }
   }
  },
  {
   "cell_type": "code",
   "execution_count": null,
   "outputs": [],
   "source": [
    "for num in range(8):\n",
    "    if num!= 4:\n",
    "        block = blockdict[f'block_{num}']\n",
    "        block.collect_saccade_events_full_dynamics(threshold=1.2)"
   ],
   "metadata": {
    "collapsed": false,
    "pycharm": {
     "name": "#%%\n"
    }
   }
  },
  {
   "cell_type": "code",
   "execution_count": null,
   "outputs": [],
   "source": [
    "blocklist = []\n",
    "for num in range(8):\n",
    "    if num not in [4,3]:\n",
    "        block = blockdict[f'block_{num}']\n",
    "        if block.saccade_list is not None:\n",
    "            print(f'block_{block.block_num} is good to go')\n",
    "            blocklist.append(block)\n",
    "blocklist"
   ],
   "metadata": {
    "collapsed": false,
    "pycharm": {
     "name": "#%%\n"
    }
   }
  },
  {
   "cell_type": "code",
   "execution_count": null,
   "outputs": [],
   "source": [
    "saccade_raster_list = []\n",
    "no_movement_raster_list = []\n",
    "last_frame = 0\n",
    "connections = []\n",
    "for block in blocklist:\n",
    "    b_raster = np.array(pd.DataFrame(block.saccade_list).starts.values) + last_frame\n",
    "    b_no_movements = np.array(block.no_movement_frames) + last_frame\n",
    "    saccade_raster_list.append(b_raster)\n",
    "    no_movement_raster_list.append(b_no_movements)\n",
    "    connections.append(last_frame)\n",
    "    last_frame += block.le_video_sync_df.index.values[-1]\n",
    "flat_raster = [s for sublist in saccade_raster_list for s in sublist]\n",
    "flat_no_movement_raster = [s for sublist in no_movement_raster_list for s in sublist]\n",
    "no_movement_array = np.sort(np.array(flat_no_movement_raster))\n",
    "raster_array = np.sort(np.array(flat_raster))\n",
    "\n",
    "p = Path(r'D:\\MarkS3\\Documents\\My_Writing\\Sagol_Phd_submission\\Graphs')\n",
    "#np.save(p / 'saccade_raster.npy',raster_array)"
   ],
   "metadata": {
    "collapsed": false,
    "pycharm": {
     "name": "#%% #### Raster Plot ####\n"
    }
   }
  },
  {
   "cell_type": "code",
   "execution_count": null,
   "outputs": [],
   "source": [
    "#block = blockdict['block_0']\n",
    "#saccade_df = pd.DataFrame(block.saccade_list)\n",
    "#s_frames = saccade_df.starts.values\n",
    "x_axis = list(range(int(raster_array[-1])))\n",
    "x_axis = np.array(list(range(int(raster_array[-1]))))*(1/60)\n",
    "fig, axes = plt.subplots(figsize=[8,1.2])\n",
    "fig.set_facecolor('xkcd:white')\n",
    "axes.plot(x_axis,[0]*len(x_axis),'white')\n",
    "axes.vlines(raster_array*(1/60),-1,1,linewidth=0.5)\n",
    "axes.vlines(no_movement_array*(1/60),-1,0.2,linewidth=0.1, color='green')\n",
    "axes.vlines(np.array(connections)*(1/60),-1,1,linewidth=2,color='red')\n",
    "axes.set_ylim(0,1)\n",
    "axes.set_xlim(0,1300)\n",
    "plt.xlabel('Time [Seconds]',fontsize=12)\n",
    "plt.yticks([])\n",
    "plt.tight_layout()\n",
    "#plt.savefig(p / 'saccade_raster_top.png', quality=100)"
   ],
   "metadata": {
    "collapsed": false,
    "pycharm": {
     "name": "#%%\n"
    }
   }
  },
  {
   "cell_type": "code",
   "execution_count": null,
   "outputs": [],
   "source": [
    "block.no_movement_frames"
   ],
   "metadata": {
    "collapsed": false,
    "pycharm": {
     "name": "#%%\n"
    }
   }
  },
  {
   "cell_type": "code",
   "execution_count": null,
   "outputs": [],
   "source": [],
   "metadata": {
    "collapsed": false,
    "pycharm": {
     "name": "#%%\n"
    }
   }
  },
  {
   "cell_type": "code",
   "execution_count": null,
   "outputs": [],
   "source": [
    "isi = np.diff(raster_array*(1/60),prepend=1)\n",
    "isi = isi[isi!=0]\n",
    "fig, axes = plt.subplots()\n",
    "fig.set_facecolor('xkcd:white')\n",
    "\n",
    "_ = plt.hist(isi,np.linspace(0,10,100))"
   ],
   "metadata": {
    "collapsed": false,
    "pycharm": {
     "name": "#%%\n"
    }
   }
  },
  {
   "cell_type": "code",
   "execution_count": null,
   "outputs": [],
   "source": [
    "def produce_saccade_plot(blockdict):\n",
    "    lines = []\n",
    "    for key in blockdict.keys():\n",
    "        block = blockdict[key]\n",
    "        try:\n",
    "            saccade_df = pd.DataFrame(block.saccade_list)\n",
    "        except AttributeError:\n",
    "            print(f'block_{block.block_num} has no validated saccades')\n",
    "            continue\n",
    "        lengths = saccade_df.ends - saccade_df.starts\n",
    "        saccade_df.insert(2,'length',lengths)\n",
    "        cs_df = saccade_df.query('length < 30').dropna(subset=['dynamics','magnitude'])\n",
    "        b_lines = cs_df.dynamics.values\n",
    "        lines.append(b_lines)\n",
    "    lines = np.concatenate(lines)\n",
    "\n",
    "    # for i in range(len(lines)):\n",
    "    #     for num,x in enumerate(lines[i][0:25]):\n",
    "    #         lines[i][num] = x*-1\n",
    "    lines_arr = [np.array(x) for x in lines]\n",
    "    lines_stack = np.stack(lines_arr)\n",
    "    mean_line = np.mean(lines_stack,axis=0)\n",
    "    median_line = np.median(lines_stack, axis=0)\n",
    "    # plot the saccade dynamics graph\n",
    "    fig, axes = plt.subplots(figsize=[10,10])\n",
    "    fig.set_facecolor('xkcd:white')\n",
    "    plt.xlabel('frames', fontsize=20)\n",
    "    plt.ylabel('Z score location inside saccade', fontsize=20)\n",
    "    axes.set_title('Saccade Dynamics across trials',fontsize=25)\n",
    "\n",
    "    for line in lines:\n",
    "        axes.plot(line,'grey',alpha=0.2)\n",
    "    axes.vlines(25,-1,1,linewidth=3,linestyles='dashed',label='saccade speed threshold crossing')\n",
    "    axes.plot(mean_line,'r',label='Mean Saccade profile',linewidth=4)\n",
    "    _ = axes.legend(fontsize=20)\n",
    "    plt.xticks(fontsize=15)\n",
    "    plt.yticks(fontsize=15)\n",
    "    axes.xaxis.set_major_locator(MultipleLocator(5))\n",
    "    #axes.xaxis.set_minor_locator(MultipleLocator())\n",
    "    axes.tick_params(which='minor', length=5)\n",
    "    fig.show()\n",
    "    save = input('Save the figure? (y/n)')\n",
    "    if save == 'n':\n",
    "        return None\n",
    "    elif save == 'y':\n",
    "        name = input('name of the graph?')\n",
    "        p = Path('D:\\MarkS3\\Documents\\My_Writing\\Sagol_Phd_submission\\Graphs')\n",
    "        plt.savefig(rf'{p}\\{name}.png')"
   ],
   "metadata": {
    "collapsed": false,
    "pycharm": {
     "name": "#%% #### Saccade Graph ####\n"
    }
   }
  },
  {
   "cell_type": "code",
   "execution_count": null,
   "outputs": [],
   "source": [
    "produce_saccade_plot(blockdict=blockdict)\n",
    "\n"
   ],
   "metadata": {
    "collapsed": false,
    "pycharm": {
     "name": "#%%\n"
    }
   }
  },
  {
   "cell_type": "code",
   "execution_count": null,
   "outputs": [],
   "source": [
    "ploc_l = []\n",
    "mc_inds = []\n",
    "mc_vals = []\n",
    "is_corrected = []\n",
    "for l in cs_df.dynamics.values:\n",
    "    peak_loc = l.index(max(l))\n",
    "    if peak_loc == len(l)-1:\n",
    "        is_corrected.append(False)\n",
    "    else:\n",
    "        is_corrected.append(True)\n",
    "    max_correction_value = min(l[peak_loc:])\n",
    "    max_correction_ind = l[peak_loc:].index(max_correction_value)\n",
    "    ploc_l.append(peak_loc)\n",
    "    mc_inds.append(max_correction_ind)\n",
    "    mc_vals.append(max_correction_value)"
   ],
   "metadata": {
    "collapsed": false,
    "pycharm": {
     "name": "#%%\n"
    }
   }
  },
  {
   "cell_type": "code",
   "execution_count": null,
   "outputs": [],
   "source": [
    "block = blockdict['block_0']\n",
    "pd.DataFrame(block.saccade_list)"
   ],
   "metadata": {
    "collapsed": false,
    "pycharm": {
     "name": "#%%\n"
    }
   }
  },
  {
   "cell_type": "code",
   "execution_count": null,
   "outputs": [],
   "source": [
    "saccade_df = pd.DataFrame(block.saccade_list)"
   ],
   "metadata": {
    "collapsed": false,
    "pycharm": {
     "name": "#%%\n"
    }
   }
  },
  {
   "cell_type": "code",
   "execution_count": null,
   "outputs": [],
   "source": [
    "lengths = saccade_df.ends - saccade_df.starts\n",
    "if 'length' not in saccade_df.columns:\n",
    "    saccade_df.insert(2,'length',lengths)\n",
    "cs_df = saccade_df.query('length < 30').dropna(subset=['r_dynamics','magnitude', 'velocity'])\n",
    "lines = cs_df.velocity.values\n",
    "p=Path(r'D:\\MarkS3\\Documents\\My_Writing\\Sagol_Phd_submission\\Graphs')\n",
    "cs_df.to_csv(p / 'csdf.csv')"
   ],
   "metadata": {
    "collapsed": false,
    "pycharm": {
     "name": "#%%\n"
    }
   }
  },
  {
   "cell_type": "code",
   "execution_count": null,
   "outputs": [],
   "source": [
    "len(blockdict['block_0'].synced_videos_validated) / 60\n",
    "7400 / 60"
   ],
   "metadata": {
    "collapsed": false,
    "pycharm": {
     "name": "#%%\n"
    }
   }
  },
  {
   "cell_type": "code",
   "execution_count": null,
   "outputs": [],
   "source": [
    "re_x_zscores = block.re_video_sync_df.center_x# - np.mean(block.re_video_sync_df.center_x)) / block.re_video_sync_df.center_x.std()\n",
    "re_y_zscores = block.re_video_sync_df.center_y#- np.mean(block.re_video_sync_df.center_y)) / block.re_video_sync_df.center_y.std()\n",
    "fig, axes = plt.subplots(2,1,figsize=(7,3))\n",
    "fig.set_facecolor('xkcd:white')\n",
    "region = list(range(9000,11000))\n",
    "#region = list(range(7400,9400))\n",
    "x_axis = np.array(region) - region[0]\n",
    "x_axis = x_axis*(1/60)\n",
    "axes[0].plot(x_axis,re_x_zscores[region])\n",
    "axes[0].set_xlim(0,33)\n",
    "#axes[0].set_ylim(-6,1)\n",
    "axes[0].set_xticks([])\n",
    "axes[1].plot(x_axis,re_y_zscores[region])\n",
    "axes[1].set_xlim(0,33)\n",
    "fig.text(0.05,0.5,'Pupil Position [Pixels]',ha='center',va='center',rotation='vertical')\n",
    "fig.text(0.5,0.05,'Time [Seconds]',ha='center',va='center',rotation='horizontal')\n",
    "fig.text(0.91,0.67,'X pos.',rotation='horizontal',fontsize=15)\n",
    "fig.text(0.91,0.30,'Y pos.',rotation='horizontal',fontsize=15)\n",
    "plt.subplots_adjust(bottom=0.16)\n",
    "plt.savefig(p / 'xy_position_for_raster_plot.png',quality=100)"
   ],
   "metadata": {
    "collapsed": false,
    "pycharm": {
     "name": "#%% ###Expansion for raster plot ####\n"
    }
   }
  },
  {
   "cell_type": "code",
   "execution_count": null,
   "outputs": [],
   "source": [
    "block= blockdict['block_2']\n",
    "fig,axes = plt.subplots()\n",
    "fig.set_facecolor('xkcd:white')\n",
    "region = list(range(878,940))\n",
    "le_trajectory = (block.le_video_sync_df.center_x.values[region] - np.min(block.le_video_sync_df.center_x.values[region])) /(np.max(block.le_video_sync_df.center_x.values[region])-np.min(block.le_video_sync_df.center_x.values[region]))\n",
    "re_trajectory = (block.re_video_sync_df.center_x.values[region] - np.min(block.re_video_sync_df.center_x.values[region])) /(np.max(block.re_video_sync_df.center_x.values[region])-np.min(block.re_video_sync_df.center_x.values[region]))\n",
    "x_axis = np.array(region) - region[0]\n",
    "x_axis = x_axis *(1/60)\n",
    "axes.plot(x_axis,le_trajectory)\n",
    "axes.plot(x_axis,re_trajectory)\n",
    "axes.set_ylabel('normalized pupil X axis pos.')\n",
    "axes.set_xlabel('Time [Seconds]')\n",
    "plt.savefig(p / 'single_saccade.png',quality=100)"
   ],
   "metadata": {
    "collapsed": false,
    "pycharm": {
     "name": "#%% ###Example for head movement saccade###\n"
    }
   }
  },
  {
   "cell_type": "code",
   "execution_count": null,
   "outputs": [],
   "source": [
    "lines_arr = [np.array(x) for x in lines]\n",
    "normalized_lines = []\n",
    "for x in lines_arr:\n",
    "    l = [(j - np.min(x)) / (np.max(x)-np.min(x)) for j in x]\n",
    "    normalized_lines.append(l)\n",
    "lines_arr = [np.array(x) for x in normalized_lines]\n",
    "\n",
    "#lines_arr = [np.cumsum(x) for x in lines_arr]"
   ],
   "metadata": {
    "collapsed": false,
    "pycharm": {
     "name": "#%%\n"
    }
   }
  },
  {
   "cell_type": "code",
   "execution_count": null,
   "outputs": [],
   "source": [
    "lines_stack = np.stack(lines_arr)\n",
    "mean_line = np.nanmean(lines_stack,axis=0)\n",
    "cutlines = []\n",
    "for line in lines_stack:\n",
    "    diff_line = np.diff(line,prepend=1)\n",
    "    deflection1 = np.argwhere(diff_line[25:]<0)\n",
    "    if len(deflection1) >0:\n",
    "        cut = int(deflection1[0][0] + 28)\n",
    "        cutlines.append(line[:cut])\n",
    "cutlines = np.array(cutlines)"
   ],
   "metadata": {
    "collapsed": false,
    "pycharm": {
     "name": "#%%\n"
    }
   }
  },
  {
   "cell_type": "code",
   "execution_count": null,
   "outputs": [],
   "source": [
    "median_line = np.nanmedian(lines_stack, axis=0)\n",
    "# plot the saccade dynamics graph\n",
    "fig, axes = plt.subplots(figsize=[5,5])\n",
    "fig.set_facecolor('xkcd:white')\n",
    "plt.xlabel('Time [Seconds]', fontsize=15)\n",
    "plt.ylabel('Normalized Velocity', fontsize=15)\n",
    "x_axis = ['{:.2f}'.format(x) for x in list(((np.array(range(15)))-5)*(1/60))]\n",
    "#axes.set_title('Saccade Dynamics across trials',fontsize=25)\n",
    "for line in cutlines:\n",
    "    axes.plot(line[20:],'grey',alpha=0.2)\n",
    "axes.vlines(5,0,1.1,linewidth=3,linestyles='dashed',label='saccade speed threshold crossing')\n",
    "axes.plot(x_axis,mean_line[20:35],'r',label='Mean Saccade profile',linewidth=4)\n",
    "#axes.plot(median_line,'b',label='Mean Saccade profile',linewidth=4)\n",
    "_ = axes.legend(fontsize=11,loc='upper left')\n",
    "plt.xticks([x_axis[0], x_axis[5],x_axis[10],x_axis[14]],fontsize=14)\n",
    "plt.yticks(fontsize=14)\n",
    "plt.tight_layout()\n",
    "plt.ylim(0,1.2)\n",
    "plt.xlim(-0.08)\n",
    "fig.show()\n",
    "p=Path(r'D:\\MarkS3\\Documents\\My_Writing\\Sagol_Phd_submission\\Graphs')\n",
    "plt.savefig(p / 'saccade_velocity_plot.png')"
   ],
   "metadata": {
    "collapsed": false,
    "pycharm": {
     "name": "#%% ##### Saccade velocity profile graph for presentation ####\n"
    }
   }
  },
  {
   "cell_type": "code",
   "execution_count": null,
   "outputs": [],
   "source": [
    "from mpl_toolkits.axes_grid1.anchored_artists import AnchoredSizeBar"
   ],
   "metadata": {
    "collapsed": false,
    "pycharm": {
     "name": "#%%\n"
    }
   }
  },
  {
   "cell_type": "code",
   "execution_count": null,
   "outputs": [],
   "source": [
    "block.le_video_sync_df.Time[region].values[0]"
   ],
   "metadata": {
    "collapsed": false,
    "pycharm": {
     "name": "#%%\n"
    }
   }
  },
  {
   "cell_type": "code",
   "execution_count": null,
   "outputs": [],
   "source": [
    "region = list(range(10274,10876))\n",
    "fig, ax = plt.subplots(figsize=[6,4.25])\n",
    "fig.set_facecolor('xkcd:white')\n",
    "\n",
    "plt.xlabel('Pupil pos. X',fontsize=15)\n",
    "plt.ylabel('Pupil pos. Y',fontsize=15)\n",
    "plt.xticks([])\n",
    "plt.yticks([])\n",
    "plt.scatter(block.le_video_sync_df.center_x.iloc[region].values,\n",
    "            block.le_video_sync_df.center_y[region].values,\n",
    "            c=block.le_video_sync_df.Time[region],\n",
    "            cmap='inferno_r',\n",
    "            alpha=0.7,\n",
    "            label='Left eye',\n",
    "            s=13)\n",
    "cb = plt.colorbar(shrink=0.6)\n",
    "cb.set_ticks([192,202])\n",
    "cb.ax.set_yticklabels(['0','10'])\n",
    "bar = AnchoredSizeBar(ax.transData, 10, '10 pixels', 4, borderpad=0.2, frameon=False)\n",
    "ax.add_artist(bar)\n",
    "cb.set_label(label='Time [seconds]',fontsize=15)\n",
    "plt.plot(block.le_video_sync_df.center_x.iloc[region].values,\n",
    "         block.le_video_sync_df.center_y[region].values,linewidth=0.8)\n",
    "plt.axis('equal')\n",
    "fig.tight_layout()"
   ],
   "metadata": {
    "collapsed": false,
    "pycharm": {
     "name": "#%% #####pupil location graph#####\n"
    }
   }
  },
  {
   "cell_type": "code",
   "execution_count": null,
   "outputs": [],
   "source": [
    "p=Path(r'D:\\MarkS3\\Documents\\My_Writing\\Sagol_Phd_submission\\Graphs')\n",
    "#plt.savefig(p / 'saccade_trajectory_plot.png', quality=100)"
   ],
   "metadata": {
    "collapsed": false,
    "pycharm": {
     "name": "#%%\n"
    }
   }
  },
  {
   "cell_type": "code",
   "execution_count": null,
   "outputs": [],
   "source": [
    "block.block_plot()"
   ],
   "metadata": {
    "collapsed": false,
    "pycharm": {
     "name": "#%%\n"
    }
   }
  },
  {
   "cell_type": "code",
   "execution_count": null,
   "outputs": [],
   "source": [
    "fig, axs = plt.subplots(4,1,figsize=[5,8])\n",
    "fig.set_facecolor('xkcd:white')\n",
    "axs = axs.flatten()\n",
    "inds = [\n",
    "    [1927,1927+180],\n",
    "    [5530,5530+180],\n",
    "    [4950,5000+250],\n",
    "    [5400,5400+250]\n",
    "]\n",
    "block_nums = ['0','0','2','2']\n",
    "for i in range(4):\n",
    "    block = blockdict[f'block_{block_nums[i]}']\n",
    "    frames = range(inds[i][0],inds[i][1])\n",
    "    x_axis = np.array(block.re_video_sync_df.ellipse_size.loc[frames].index.values)\n",
    "    x_axis = x_axis-x_axis[0]\n",
    "    x_axis = x_axis * (1/60)\n",
    "    axs[i].plot(x_axis,\n",
    "                block.re_video_sync_df.ellipse_size.loc[frames].values)\n",
    "    #axs[i].vlines(x_axis[10],min(block.re_video_sync_df.ellipse_size.loc[frames].values),\n",
    "     #             max(block.re_video_sync_df.ellipse_size.loc[frames].values),color='green')\n",
    "    axs[i].set_xticks([x_axis[0],x_axis[len(x_axis)//2],x_axis[-1]])\n",
    "    #axs[i].set_xtickslabels([x_axis[0],x_axis[len(x_axis)//2],x_axis[-1]])\n",
    "fig.text(0.05,0.5,'Pupil Diameter [Pixels]',ha='center',va='center',rotation='vertical')\n",
    "fig.text(0.5,0.05,'Time [Seconds]',ha='center',va='center',rotation='horizontal')\n",
    "plt.subplots_adjust(bottom=0.1,left=0.17)\n",
    "plt.savefig(p / 'pupil_Dynamics.png',quality=100)"
   ],
   "metadata": {
    "collapsed": false,
    "pycharm": {
     "name": "#%% light independent pupil response graphs\n"
    }
   }
  },
  {
   "cell_type": "code",
   "execution_count": null,
   "outputs": [],
   "source": [
    "np.save(p / 'saccade.npy',np.array(pd.DataFrame(block.saccade_list).starts.values))"
   ],
   "metadata": {
    "collapsed": false,
    "pycharm": {
     "name": "#%%\n"
    }
   }
  },
  {
   "cell_type": "code",
   "execution_count": null,
   "outputs": [],
   "source": [
    "lx = block.le_video_sync_df.center_x.values\n",
    "ly = block.le_video_sync_df.center_y.values\n",
    "rx = block.re_video_sync_df.center_x.values\n",
    "ry = block.re_video_sync_df.center_y.values\n",
    "diff_dict = {\n",
    "    'lx':np.diff(lx).astype(float),\n",
    "    'ly':np.diff(ly).astype(float),\n",
    "    'rx':np.diff(rx).astype(float),\n",
    "    'ry':np.diff(ry).astype(float),\n",
    "}\n",
    "l_e_dist = np.sqrt(diff_dict['lx']**2 + diff_dict['ly']**2)\n",
    "r_e_dist = np.sqrt(diff_dict['rx']**2 + diff_dict['ry']**2)\n"
   ],
   "metadata": {
    "collapsed": false,
    "pycharm": {
     "name": "#%% calculate euclidean distances for cente of pupil in left and right eyes\n"
    }
   }
  },
  {
   "cell_type": "code",
   "execution_count": null,
   "outputs": [],
   "source": [
    "bokeh_fig = figure(title='Pupil center speed',\n",
    "                   x_axis_label='Linear Frames',\n",
    "                   y_axis_label='euclidean speed',\n",
    "                   plot_width=1500,\n",
    "                   plot_height=700\n",
    "                   )\n",
    "x_axis = block.synced_videos_validated.Arena_TTL.values - block.arena_first_ttl_frame\n",
    "bokeh_fig.line(x_axis, l_e_dist, legend_label='Left Eye Speed', line_width=1.5, line_color='blue')\n",
    "bokeh_fig.line(x_axis, -r_e_dist, legend_label='Inverse Right Eye Speed', line_width=1.5, line_color='red')\n",
    "#bokeh_fig.vbar(x=block.no_movement_frames, width=1, bottom=-4, top=-1, alpha=0.2, color='green')\n",
    "bokeh_fig.xaxis.ticker = [x for x in x_axis]\n",
    "show(bokeh_fig)"
   ],
   "metadata": {
    "collapsed": false,
    "pycharm": {
     "name": "#%%\n"
    }
   }
  },
  {
   "cell_type": "code",
   "execution_count": null,
   "outputs": [],
   "source": [
    "block1 = blockdict['block_1']\n",
    "block1.block_plot()\n",
    "\n",
    "\n",
    "\n"
   ],
   "metadata": {
    "collapsed": false,
    "pycharm": {
     "name": "#%%\n"
    }
   }
  },
  {
   "cell_type": "code",
   "execution_count": null,
   "outputs": [],
   "source": [
    "re_dfs_to_concat = []\n",
    "le_dfs_to_concat =[]\n",
    "keys = []\n",
    "breaks = [0]\n",
    "concat_image_on_frames = []\n",
    "concat_image_off_frames = []\n",
    "for num in range(8):\n",
    "    if num != 4:\n",
    "        block = blockdict[f'block_{num}']\n",
    "        keys.append(f'block_{block.block_num}')\n",
    "        re_dfs_to_concat.append(block.re_video_sync_df)\n",
    "        le_dfs_to_concat.append(block.le_video_sync_df)\n",
    "        concat_image_on_frames.append(list(np.array(block.stim_on_arena_frames) + breaks[-1]))\n",
    "        concat_image_off_frames.append(list(np.array(block.stim_off_arena_frames) + breaks[-1]))\n",
    "        breaks.append(len(block.re_video_sync_df)+breaks[-1])\n",
    "flat_image_on_frames = [x for sublist in concat_image_on_frames for x in sublist]\n",
    "flat_image_off_frames = [x for sublist in concat_image_off_frames for x in sublist]\n",
    "images_x_axis = [10]*len(flat_image_on_frames)"
   ],
   "metadata": {
    "collapsed": false,
    "pycharm": {
     "name": "#%% Fuse mega dataframe out of all processed blocks\n"
    }
   }
  },
  {
   "cell_type": "code",
   "execution_count": null,
   "outputs": [],
   "source": [
    "re_mega_df = pd.concat(re_dfs_to_concat, keys=keys)\n",
    "le_mega_df = pd.concat(le_dfs_to_concat, keys=keys)"
   ],
   "metadata": {
    "collapsed": false,
    "pycharm": {
     "name": "#%%\n"
    }
   }
  },
  {
   "cell_type": "code",
   "execution_count": null,
   "outputs": [],
   "source": [
    "print(breaks)\n",
    "trials_start = []\n",
    "for i in range(8):\n",
    "    if i != 4:\n",
    "        trials_start.append(breaks[i] + blockdict[f'block_{i}'].synced_videos_validated['Arena_TTL'][0])\n",
    "print(trials_start)"
   ],
   "metadata": {
    "collapsed": false,
    "pycharm": {
     "name": "#%%\n"
    }
   }
  },
  {
   "cell_type": "code",
   "execution_count": null,
   "outputs": [],
   "source": [
    "#Extract the data columns and calculate Z-score across all blocks\n",
    "le_ellipses_z = (le_mega_df.ellipse_size - le_mega_df.ellipse_size.mean()) / le_mega_df.ellipse_size.std()\n",
    "re_ellipses_z = (re_mega_df.ellipse_size - re_mega_df.ellipse_size.mean()) / re_mega_df.ellipse_size.std()\n",
    "le_x_zscores = (le_mega_df.center_x - np.mean(le_mega_df.center_x)) / le_mega_df.center_x.std()\n",
    "le_y_zscores = (le_mega_df.center_y - np.mean(le_mega_df.center_y)) / le_mega_df.center_y.std()\n",
    "re_x_zscores = (re_mega_df.center_x - np.mean(re_mega_df.center_x)) / re_mega_df.center_x.std()\n",
    "re_y_zscores = (re_mega_df.center_y - np.mean(re_mega_df.center_y)) / re_mega_df.center_y.std()\n",
    "x_axis = range(len(le_ellipses_z))"
   ],
   "metadata": {
    "collapsed": false,
    "pycharm": {
     "name": "#%% Plot all blocks together\n"
    }
   }
  },
  {
   "cell_type": "code",
   "execution_count": null,
   "outputs": [],
   "source": [
    "# plot everything\n",
    "bokeh_fig = figure(title='Pupil combined metrics',\n",
    "                   x_axis_label='Linear Frames',\n",
    "                   y_axis_label=' Z scores',\n",
    "                   plot_width=1500,\n",
    "                   plot_height=700\n",
    "                   )\n",
    "bokeh_fig.add_tools(HoverTool())\n",
    "bokeh_fig.line(x_axis, le_ellipses_z + 7, legend_label='Left Eye diameter', line_width=1.5, line_color='blue')\n",
    "bokeh_fig.line(x_axis, le_x_zscores + 14, legend_label='Left Eye x position', line_width=1, line_color='cyan')\n",
    "bokeh_fig.line(x_axis, le_y_zscores, legend_label='Left Eye y position', line_width=1, line_color='green')\n",
    "bokeh_fig.line(x_axis, re_ellipses_z + 7, legend_label='Right Eye diameter', line_width=1.5, line_color='red')\n",
    "bokeh_fig.line(x_axis, re_x_zscores + 14, legend_label='Right Eye x position', line_width=1, line_color='orange')\n",
    "bokeh_fig.line(x_axis, re_y_zscores, legend_label='Right Eye y position', line_width=1, line_color='pink')\n",
    "bokeh_fig.cross(trials_start, [-5,-5,-5,-5,-5,-5,-5], size=20, color=\"navy\", alpha=0.5)\n",
    "bokeh_fig.vbar(x=flat_image_on_frames, width=1, bottom=-4, top=17, alpha=0.5, color='green')\n",
    "bokeh_fig.vbar(x=flat_image_off_frames, width=1, bottom=-4, top=17, alpha=0.5, color='red')\n",
    "#bokeh_fig.cross(flat_image_on_frames, images_x_axis, size=20, color=\"red\", alpha=0.5)\n",
    "bokeh_fig.line(x_axis, np.gradient(re_ellipses_z), legend_label='RE Gradient', line_width=1, line_color='green')\n",
    "show(bokeh_fig)"
   ],
   "metadata": {
    "collapsed": false,
    "pycharm": {
     "name": "#%%\n"
    }
   }
  },
  {
   "cell_type": "code",
   "execution_count": null,
   "outputs": [],
   "source": [
    "for i in range(8):\n",
    "    if i != 4:\n",
    "        block = blockdict[f'block_{i}']\n",
    "        print(block.stim_on_arena_frames)"
   ],
   "metadata": {
    "collapsed": false,
    "pycharm": {
     "name": "#%%\n"
    }
   }
  },
  {
   "cell_type": "code",
   "execution_count": null,
   "outputs": [],
   "source": [
    "first_image_on = [x[0] for x in concat_image_on_frames]\n",
    "print(first_image_on)\n",
    "first_supposed_to_be = []\n",
    "for i in range(8):\n",
    "    if i != 4:\n",
    "        first_supposed_to_be.append(blockdict[f'block_{i}'].arena_first_ttl_frame)\n",
    "len(breaks)"
   ],
   "metadata": {
    "collapsed": false,
    "pycharm": {
     "name": "#%%\n"
    }
   }
  },
  {
   "cell_type": "code",
   "execution_count": null,
   "outputs": [],
   "source": [
    "le_mega_df"
   ],
   "metadata": {
    "collapsed": false,
    "pycharm": {
     "name": "#%%\n"
    }
   }
  },
  {
   "cell_type": "code",
   "execution_count": null,
   "outputs": [],
   "source": [
    "\n",
    "\n",
    "\n",
    "### PHASE 3 ###\n",
    "from bokeh.palettes import Category20c"
   ],
   "metadata": {
    "collapsed": false,
    "pycharm": {
     "name": "#%%\n"
    }
   }
  },
  {
   "cell_type": "code",
   "execution_count": null,
   "outputs": [],
   "source": [
    "Category20c"
   ],
   "metadata": {
    "collapsed": false,
    "pycharm": {
     "name": "#%%\n"
    }
   }
  },
  {
   "cell_type": "code",
   "execution_count": null,
   "outputs": [],
   "source": [
    "block = blockdict['block_1']\n",
    "#for each block:"
   ],
   "metadata": {
    "collapsed": false,
    "pycharm": {
     "name": "#%%\n"
    }
   }
  },
  {
   "cell_type": "code",
   "execution_count": null,
   "outputs": [],
   "source": [
    "# import the dlc_csvs and collect the data from all videos in a dataframe\n",
    "m_csvs = list((block.block_path /'gaze_vector').glob('*.csv'))\n",
    "csv_dict = {}\n",
    "#create the csv dict to iterate over\n",
    "for i in range(len(m_csvs)):\n",
    "    csv_dict[f'csv_{i}'] = pd.read_csv(m_csvs[i],header=1)\n",
    "\n",
    "# iterate and sort the data from the dlc into location_data\n",
    "location_data = {}\n",
    "uncertainty_thr = 0.5\n",
    "for i in range(len(m_csvs)):\n",
    "    data = csv_dict[f'csv_{i}']\n",
    "    # import the dataframe and convert it to floats\n",
    "    data = data.iloc[1:].apply(pd.to_numeric)\n",
    "    # sort the pupil elements to x and y, with p as probability\n",
    "    led_elements = np.array([x for x in data.columns if 'bodyparts' not in x])\n",
    "    led_xs = data[led_elements[np.arange(0, len(led_elements), 3)]]\n",
    "    led_ys = data[led_elements[np.arange(1, len(led_elements), 3)]]\n",
    "    led_ps = data[led_elements[np.arange(2, len(led_elements), 3)]]\n",
    "    # rename dataframes for masking with p values of bad points:\n",
    "    led_ps = led_ps.rename(columns=dict(zip(led_ps.columns, led_xs.columns)))\n",
    "    led_ys = led_ys.rename(columns=dict(zip(led_ys.columns, led_xs.columns)))\n",
    "    good_points = led_ps > uncertainty_thr\n",
    "    led_xs = led_xs[good_points]\n",
    "    led_ys = led_ys[good_points]\n",
    "    #Data collection into dict\n",
    "    location_data[f'led_xs_{i}'] = led_xs\n",
    "    location_data[f'led_ys_{i}'] = led_ys\n",
    "    location_data[f'led_ps_{i}'] = led_ps"
   ],
   "metadata": {
    "collapsed": false,
    "pycharm": {
     "name": "#%%\n"
    }
   }
  },
  {
   "cell_type": "code",
   "execution_count": null,
   "outputs": [],
   "source": [
    "dict_for_df = {}\n",
    "for i in range(len(m_csvs)):\n",
    "    dfx = location_data[f'led_xs_{i}']\n",
    "    dfy = location_data[f'led_ys_{i}']\n",
    "    new_columns_x = dfx.columns.values + f'_x_{i}'\n",
    "    new_columns_y = dfy.columns.values + f'_y_{i}'\n",
    "    dict_for_df[f'led_xs_{i}'] = dfx.rename(columns=dict(zip(dfx.columns.values, list(new_columns_x))))\n",
    "    dict_for_df[f'led_ys_{i}'] = dfy.rename(columns=dict(zip(dfy.columns.values, list(new_columns_y))))\n",
    "df_list = [dict_for_df[x] for x in dict_for_df.keys()]\n",
    "movement_df = pd.concat(df_list,1)"
   ],
   "metadata": {
    "collapsed": false,
    "pycharm": {
     "name": "#%% convert dict into movement_df for iterative processing\n"
    }
   }
  },
  {
   "cell_type": "code",
   "execution_count": null,
   "outputs": [],
   "source": [
    "good_rows = []\n",
    "bad_rows = []\n",
    "for row in tqdm(range(0, len(movement_df))):\n",
    "    count = 0\n",
    "    for column in movement_df.columns:\n",
    "        if not np.isnan(movement_df[f'{column}'].iloc[row]):\n",
    "            count+=1\n",
    "    if count > 20:\n",
    "        good_rows.append(row)\n",
    "    else:\n",
    "        bad_rows.append(row)"
   ],
   "metadata": {
    "collapsed": false,
    "pycharm": {
     "name": "#%% mark acceptable frames as those that have at least 20 active traces\n"
    }
   }
  },
  {
   "cell_type": "code",
   "execution_count": null,
   "outputs": [],
   "source": [
    "all_diffs_x = []\n",
    "all_diffs_y = []\n",
    "for col in movement_df.columns:\n",
    "    y = movement_df[col].values\n",
    "    x = list(range(len(movement_df)))\n",
    "    dydx = np.diff(y)/np.diff(x)\n",
    "    if 'x' in str(col):\n",
    "        all_diffs_x.append(dydx)\n",
    "    elif 'y' in str(col):\n",
    "        all_diffs_y.append(dydx)\n",
    "    else:\n",
    "        print('weird, try again')\n",
    "all_diffs_x = np.array(all_diffs_x)\n",
    "all_diffs_y = np.array(all_diffs_y)\n",
    "all_diffs_dict = {'y':all_diffs_y,\n",
    "                  'x':all_diffs_x}"
   ],
   "metadata": {
    "collapsed": false,
    "pycharm": {
     "name": "#%% derivative based analysis:\n"
    }
   }
  },
  {
   "cell_type": "code",
   "execution_count": null,
   "outputs": [],
   "source": [
    "mean_speed_dict = {\n",
    "    'x':[],\n",
    "    'y':[]\n",
    "}\n",
    "for key in ['x','y']:\n",
    "    for i in range(len(all_diffs_dict[key][0])):\n",
    "        # find the non nan values to work with:\n",
    "        non_nans = []\n",
    "        for j in range(len(all_diffs_dict[key])):\n",
    "            if not np.isnan(all_diffs_dict[key][j][i]):\n",
    "                non_nans.append(j)\n",
    "        if len(non_nans) != 0:\n",
    "            mean = np.sum(all_diffs_dict[key][non_nans,i])/len(non_nans)\n",
    "            mean_speed_dict[key].append(mean)\n",
    "        else:\n",
    "            mean_speed_dict[key].append(np.nan)\n",
    "            if np.isnan(mean):\n",
    "                print('try again')\n",
    "                print(i)\n",
    "                print(non_nans)\n",
    "                break"
   ],
   "metadata": {
    "collapsed": false,
    "pycharm": {
     "name": "#%%\n"
    }
   }
  },
  {
   "cell_type": "code",
   "execution_count": null,
   "outputs": [],
   "source": [
    "x_sqrd = np.power(np.array(mean_speed_dict['x']),np.array([2]))\n",
    "y_sqrd = np.power(np.array(mean_speed_dict['y']),np.array([2]))\n",
    "euclidean_speed = np.sqrt(x_sqrd + y_sqrd)\n"
   ],
   "metadata": {
    "collapsed": false,
    "pycharm": {
     "name": "#%% euclidean speed calc\n"
    }
   }
  },
  {
   "cell_type": "code",
   "execution_count": null,
   "outputs": [],
   "source": [
    "low_speed_segments = euclidean_speed < 0.02\n",
    "low_speed_segments = medfilt(low_speed_segments,15)\n",
    "bokeh_fig = figure(title='led movements per frame',\n",
    "                   x_axis_label='Linear Frames',\n",
    "                   y_axis_label='location in frame',\n",
    "                   plot_width=1500,\n",
    "                   plot_height=700\n",
    "                   )\n",
    "mean_speed = euclidean_speed\n",
    "bokeh_fig.line(\n",
    "    list(range(len(mean_speed))),\n",
    "    np.abs((mean_speed - np.mean(mean_speed[~np.isnan(mean_speed)])) / np.std(np.array(mean_speed)[~np.isnan(mean_speed)])),\n",
    "    legend_label='speed',\n",
    "    line_width=0.3,\n",
    "    line_color='black')\n",
    "for num, col in enumerate(movement_df.columns):\n",
    "    if 'y' in col:\n",
    "        try:\n",
    "            color = Category20c[20][num]\n",
    "        except IndexError:\n",
    "            color = 'green'\n",
    "    elif 'x' in col:\n",
    "        try:\n",
    "            color = Category20c[20][-num]\n",
    "        except IndexError:\n",
    "            color = 'red'\n",
    "    bokeh_fig.line(movement_df[col].index,\n",
    "                   np.abs((movement_df[col].values - movement_df[col].mean()) / movement_df[col].std()),\n",
    "                   legend_label=col,\n",
    "                   line_width=1.5,\n",
    "                   line_color=color)\n",
    "\n",
    "bokeh_fig.vbar(x=np.argwhere(low_speed_segments)[:,0], width=1, bottom=-4, top=-1, alpha=0.2, color='green')\n",
    "show(bokeh_fig)\n"
   ],
   "metadata": {
    "collapsed": false,
    "pycharm": {
     "name": "#%% exploratory graph with euclidean speed\n"
    }
   }
  },
  {
   "cell_type": "code",
   "execution_count": null,
   "outputs": [],
   "source": [
    "bokeh_fig = figure(title='led movements per frame',\n",
    "                   x_axis_label='Linear Frames',\n",
    "                   y_axis_label='location in frame',\n",
    "                   plot_width=1500,\n",
    "                   plot_height=700\n",
    "                   )\n",
    "\n",
    "bokeh_fig.line(movement_df.FL_y_0.index, movement_df.FL_y_0.values, legend_label='y0', line_width=1.5, line_color='blue')\n",
    "bokeh_fig.line(movement_df.FL_y_0.index, movement_df.FL_x_0.values, legend_label='x0', line_width=1.5, line_color='cyan')\n",
    "bokeh_fig.line(movement_df.FL_y_0.index, movement_df.FL_y_1.values, legend_label='y1', line_width=1.5, line_color='red')\n",
    "bokeh_fig.line(movement_df.FL_y_0.index, movement_df.FL_x_1.values, legend_label='x1', line_width=1.5, line_color='orange')\n",
    "bokeh_fig.line(movement_df.FL_y_0.index, movement_df.FL_y_2.values, legend_label='y2', line_width=1.5, line_color='purple')\n",
    "bokeh_fig.line(movement_df.FL_y_0.index, movement_df.FL_x_2.values, legend_label='x2', line_width=1.5, line_color='pink')\n",
    "bokeh_fig.line(movement_df.FL_y_0.index, movement_df.FL_y_3.values, legend_label='y3', line_width=1.5, line_color='green')\n",
    "bokeh_fig.line(movement_df.FL_y_0.index, movement_df.FL_x_3.values, legend_label='x3', line_width=1.5, line_color='black')\n",
    "bokeh_fig.vbar(x=good_rows, width=1, bottom=-4, top=17, alpha=0.5, color='green')\n",
    "#bokeh_fig.line(movement_df.FL_y_0.index, mean_speeds_per_frame, legend_label='speed', line_width=1.5, line_color='black')\n",
    "show(bokeh_fig)\n"
   ],
   "metadata": {
    "collapsed": false,
    "pycharm": {
     "name": "#%% Explore the values\n"
    }
   }
  },
  {
   "cell_type": "code",
   "execution_count": null,
   "outputs": [],
   "source": [
    "import pathlib\n",
    "import os\n",
    "import pandas as pd\n",
    "import shutil"
   ],
   "metadata": {
    "collapsed": false,
    "pycharm": {
     "name": "#%% sort the pose estimation dlc results into the\n"
    }
   }
  },
  {
   "cell_type": "code",
   "execution_count": null,
   "outputs": [],
   "source": [
    "dlc_path = Path(r'D:\\experiments\\Animal_4\\18_07_2021\\DLC filtered\\arima filtered')\n",
    "dlc_file_list = list(dlc_path.glob('*.csv'))\n",
    "for file in dlc_file_list:\n",
    "    dlc_filename = file.name[:-50]\n",
    "    dlc_filename = dlc_filename.replace('-','_')\n",
    "    print(dlc_filename)"
   ],
   "metadata": {
    "collapsed": false,
    "pycharm": {
     "name": "#%%\n"
    }
   }
  },
  {
   "cell_type": "code",
   "execution_count": null,
   "outputs": [],
   "source": [
    "for i in range(8):\n",
    "    if i != 4:\n",
    "        block = blockdict[f'block_{i}']\n",
    "        block_destination = block.block_path / 'gaze_vector'\n",
    "        destination_code = block.arena_vidnames[0][5:-4]\n",
    "\n",
    "        print(destination_code)\n",
    "        for file in dlc_file_list:\n",
    "            dlc_filename = file.name[:-50]\n",
    "            dlc_filename = dlc_filename.replace('-','_')\n",
    "            if destination_code in dlc_filename:\n",
    "                #print(f'would have copied {dlc_filename} into {block_destination/dlc_filename} because the code is {destination_code}')\n",
    "                dlc_filename = str(dlc_filename + '.csv')\n",
    "                shutil.copy(file, block_destination/dlc_filename)"
   ],
   "metadata": {
    "collapsed": false,
    "pycharm": {
     "name": "#%% file mover\n"
    }
   }
  },
  {
   "cell_type": "code",
   "execution_count": null,
   "outputs": [],
   "source": [
    "for i in range(8):\n",
    "    if i !=4:\n",
    "        block = blockdict[f'block_{i}']\n",
    "        dest = block.block_path / 'gaze_vector'\n",
    "        dest_files = list(dest.glob('*'))\n",
    "        for file in dest_files:\n",
    "            os.remove(file)"
   ],
   "metadata": {
    "collapsed": false,
    "pycharm": {
     "name": "#%% file remover\n"
    }
   }
  },
  {
   "cell_type": "code",
   "execution_count": null,
   "outputs": [],
   "source": [
    "from scipy.signal import medfilt\n",
    "from matplotlib import pyplot as plt\n",
    "low_speed_segments = euclidean_speed < 0.02\n",
    "fig = plt.figure(figsize=(15,5))\n",
    "plt.plot(range(len(low_speed_segments)),low_speed_segments)"
   ],
   "metadata": {
    "collapsed": false,
    "pycharm": {
     "name": "#%% med filt test\n"
    }
   }
  },
  {
   "cell_type": "code",
   "execution_count": null,
   "outputs": [],
   "source": [
    "fig = plt.figure(figsize=(15,5))\n",
    "plt.plot(range(len(low_speed_segments)),medfilt(low_speed_segments,1))"
   ],
   "metadata": {
    "collapsed": false,
    "pycharm": {
     "name": "#%%\n"
    }
   }
  },
  {
   "cell_type": "code",
   "execution_count": null,
   "outputs": [],
   "source": [
    "low_speed_segments = euclidean_speed < 0.02\n",
    "np.shape(low_speed_segments)"
   ],
   "metadata": {
    "collapsed": false,
    "pycharm": {
     "name": "#%%\n"
    }
   }
  },
  {
   "cell_type": "code",
   "execution_count": null,
   "outputs": [],
   "source": [
    "def get_closest_frame(timestamp, vid_timeseries, report_acc=None):\n",
    "    \"\"\"\n",
    "    This function extracts a frame from a series so that it is as close as possible to a given timestamp\n",
    "    :param timestamp: The time to match a frame to\n",
    "    :param vid_timeseries: The time frames series to look at for a match\n",
    "    :param report_acc: if set to 1, will report the accuracy of the match\n",
    "    :return: index_of_lowest_diff , accuracy of match (if requested)\n",
    "    \"\"\"\n",
    "    array = np.abs((vid_timeseries.to_numpy()) - timestamp)\n",
    "    index_of_lowest_diff = np.argmin(array)\n",
    "    if report_acc == 1:\n",
    "        accuracy = abs(vid_timeseries[index_of_lowest_diff] - timestamp)\n",
    "        return index_of_lowest_diff, accuracy\n",
    "    else:\n",
    "        return index_of_lowest_diff"
   ],
   "metadata": {
    "collapsed": false,
    "pycharm": {
     "name": "#%%\n"
    }
   }
  }
 ],
 "metadata": {
  "kernelspec": {
   "display_name": "Python 3",
   "language": "python",
   "name": "python3"
  },
  "language_info": {
   "codemirror_mode": {
    "name": "ipython",
    "version": 2
   },
   "file_extension": ".py",
   "mimetype": "text/x-python",
   "name": "python",
   "nbconvert_exporter": "python",
   "pygments_lexer": "ipython2",
   "version": "2.7.6"
  }
 },
 "nbformat": 4,
 "nbformat_minor": 0
}