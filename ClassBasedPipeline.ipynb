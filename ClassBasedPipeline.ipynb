{
 "cells": [
  {
   "cell_type": "code",
   "execution_count": 1,
   "metadata": {
    "collapsed": true
   },
   "outputs": [],
   "source": [
    "from block_sync_class import *\n",
    "from bokeh.plotting import figure, show\n",
    "import pickle\n",
    "import time"
   ]
  },
  {
   "cell_type": "code",
   "execution_count": 2,
   "outputs": [
    {
     "name": "stdout",
     "output_type": "stream",
     "text": [
      "instantiated block number 0 at Path: D:\\experiments\\Animal_4\\18_07_2021\\block_0\n",
      "instantiated block number 1 at Path: D:\\experiments\\Animal_4\\18_07_2021\\block_1\n",
      "instantiated block number 2 at Path: D:\\experiments\\Animal_4\\18_07_2021\\block_2\n",
      "instantiated block number 3 at Path: D:\\experiments\\Animal_4\\18_07_2021\\block_3\n",
      "instantiated block number 4 at Path: D:\\experiments\\Animal_4\\18_07_2021\\block_4\n",
      "instantiated block number 5 at Path: D:\\experiments\\Animal_4\\18_07_2021\\block_5\n",
      "instantiated block number 6 at Path: D:\\experiments\\Animal_4\\18_07_2021\\block_6\n",
      "instantiated block number 7 at Path: D:\\experiments\\Animal_4\\18_07_2021\\block_7\n"
     ]
    }
   ],
   "source": [
    "\n",
    "block_0 = BlockSync(animal_num='4',\n",
    "                    experiment_date='18_07_2021',\n",
    "                    block_num='0',\n",
    "                    path_to_animal_folder=r'D:\\experiments\\\\')\n",
    "block_1 = BlockSync(animal_num='4',\n",
    "                    experiment_date='18_07_2021',\n",
    "                    block_num='1',\n",
    "                    path_to_animal_folder=r'D:\\experiments\\\\')\n",
    "block_2 = BlockSync(animal_num='4',\n",
    "                    experiment_date='18_07_2021',\n",
    "                    block_num='2',\n",
    "                    path_to_animal_folder=r'D:\\experiments\\\\')\n",
    "block_3 = BlockSync(animal_num='4',\n",
    "                    experiment_date='18_07_2021',\n",
    "                    block_num='3',\n",
    "                    path_to_animal_folder=r'D:\\experiments\\\\')\n",
    "block_4 = BlockSync(animal_num='4',\n",
    "                    experiment_date='18_07_2021',\n",
    "                    block_num='4',\n",
    "                    path_to_animal_folder=r'D:\\experiments\\\\')\n",
    "block_5 = BlockSync(animal_num='4',\n",
    "                    experiment_date='18_07_2021',\n",
    "                    block_num='5',\n",
    "                    path_to_animal_folder=r'D:\\experiments\\\\')\n",
    "block_6 = BlockSync(animal_num='4',\n",
    "                    experiment_date='18_07_2021',\n",
    "                    block_num='6',\n",
    "                    path_to_animal_folder=r'D:\\experiments\\\\')\n",
    "block_7 = BlockSync(animal_num='4',\n",
    "                    experiment_date='18_07_2021',\n",
    "                    block_num='7',\n",
    "                    path_to_animal_folder=r'D:\\experiments\\\\')\n",
    "\n",
    "blocklist = [\n",
    "    block_0,\n",
    "    block_1,\n",
    "    block_2,\n",
    "    block_3,\n",
    "    block_4,\n",
    "    block_5,\n",
    "    block_6,\n",
    "    block_7\n",
    "]"
   ],
   "metadata": {
    "collapsed": false,
    "pycharm": {
     "name": "#%%\n"
    }
   }
  },
  {
   "cell_type": "code",
   "execution_count": null,
   "outputs": [],
   "source": [
    "for block in blocklist:\n",
    "    block.handle_arena_files()\n",
    "    block.handle_eye_videos()"
   ],
   "metadata": {
    "collapsed": false,
    "pycharm": {
     "name": "#%%\n"
    }
   }
  },
  {
   "cell_type": "code",
   "execution_count": null,
   "outputs": [],
   "source": [
    "    block.synchronize_arena_timestamps()\n",
    "\n",
    "    block.create_arena_brightness_df(250, export=True)"
   ],
   "metadata": {
    "collapsed": false,
    "pycharm": {
     "name": "#%%\n"
    }
   }
  },
  {
   "cell_type": "code",
   "execution_count": null,
   "outputs": [],
   "source": [
    "for block in blocklist:\n"
   ],
   "metadata": {
    "collapsed": false,
    "pycharm": {
     "name": "#%%\n"
    }
   }
  },
  {
   "cell_type": "code",
   "execution_count": null,
   "outputs": [],
   "source": [
    "for block in blocklist:\n",
    "    block.synchronize_arena_timestamps()"
   ],
   "metadata": {
    "collapsed": false,
    "pycharm": {
     "name": "#%%\n"
    }
   }
  },
  {
   "cell_type": "code",
   "execution_count": null,
   "outputs": [],
   "source": [
    "for block in blocklist:\n",
    "    block.import_arena_brightness_file()"
   ],
   "metadata": {
    "collapsed": false,
    "pycharm": {
     "name": "#%%\n"
    }
   }
  },
  {
   "cell_type": "code",
   "execution_count": null,
   "outputs": [],
   "source": [
    "for block in blocklist:\n",
    "    start = time.time()\n",
    "    block.create_arena_brightness_df(threshold_value=255, export=True)\n",
    "    end = time.time()\n",
    "    print(f'this one took {end - start} seconds')"
   ],
   "metadata": {
    "collapsed": false,
    "pycharm": {
     "name": "#%%\n"
    }
   }
  },
  {
   "cell_type": "code",
   "execution_count": null,
   "outputs": [],
   "source": [
    "for block in blocklist:\n",
    "    #block.validate_arena_synchronization()\n",
    "    block.import_open_ephys_events()\n",
    "    block.synchronize_block()\n",
    "    block.update_arena_bdf()\n",
    "    block.create_eye_brightness_df(threshold_value=30)\n",
    "    block.synchronize_by_led_blink()\n",
    "    \n",
    "    file_to_save_to = open(block.block_path / 'BlockSync.pickle','wb')\n",
    "    pickle.dump(block, file_to_save_to)\n",
    "    file_to_save_to.close()\n",
    "    print(f'block number {block.block_num} saved')"
   ],
   "metadata": {
    "collapsed": false,
    "pycharm": {
     "name": "#%%\n"
    }
   }
  },
  {
   "cell_type": "code",
   "execution_count": null,
   "outputs": [],
   "source": [],
   "metadata": {
    "collapsed": false,
    "pycharm": {
     "name": "#%%\n"
    }
   }
  },
  {
   "cell_type": "code",
   "execution_count": null,
   "outputs": [],
   "source": [
    "block_0 = BlockSync(animal_num='4',\n",
    "                    experiment_date='18_07_2021',\n",
    "                    block_num='2',\n",
    "                    path_to_animal_folder=r'D:\\experiments\\\\')"
   ],
   "metadata": {
    "collapsed": false,
    "pycharm": {
     "name": "#%%\n"
    }
   }
  },
  {
   "cell_type": "code",
   "execution_count": null,
   "outputs": [],
   "source": [
    "block_0.handle_arena_files()"
   ],
   "metadata": {
    "collapsed": false,
    "pycharm": {
     "name": "#%%\n"
    }
   }
  },
  {
   "cell_type": "code",
   "execution_count": null,
   "outputs": [],
   "source": [
    "block_0.handle_eye_videos()"
   ],
   "metadata": {
    "collapsed": false,
    "pycharm": {
     "name": "#%%\n"
    }
   }
  },
  {
   "cell_type": "code",
   "execution_count": null,
   "outputs": [],
   "source": [
    "block_0.synchronize_arena_timestamps()\n"
   ],
   "metadata": {
    "collapsed": false,
    "pycharm": {
     "name": "#%%\n"
    }
   }
  },
  {
   "cell_type": "code",
   "execution_count": null,
   "outputs": [],
   "source": [
    "block_0.create_arena_brightness_df(250, export=True)"
   ],
   "metadata": {
    "collapsed": false,
    "pycharm": {
     "name": "#%%\n"
    }
   }
  },
  {
   "cell_type": "code",
   "execution_count": null,
   "outputs": [],
   "source": [
    "block_0.import_arena_brightness_file()"
   ],
   "metadata": {
    "collapsed": false,
    "pycharm": {
     "name": "#%%\n"
    }
   }
  },
  {
   "cell_type": "code",
   "execution_count": null,
   "outputs": [],
   "source": [
    "block_0.arena_brightness_df"
   ],
   "metadata": {
    "collapsed": false,
    "pycharm": {
     "name": "#%%\n"
    }
   }
  },
  {
   "cell_type": "code",
   "execution_count": null,
   "outputs": [],
   "source": [
    "block_7.validate_arena_synchronization()\n"
   ],
   "metadata": {
    "collapsed": false,
    "pycharm": {
     "name": "#%%\n"
    }
   }
  },
  {
   "cell_type": "code",
   "execution_count": null,
   "outputs": [],
   "source": [
    "block_7.import_open_ephys_events()"
   ],
   "metadata": {
    "collapsed": false,
    "pycharm": {
     "name": "#%%\n"
    }
   }
  },
  {
   "cell_type": "code",
   "execution_count": null,
   "outputs": [],
   "source": [
    "block_7.synchronize_block()"
   ],
   "metadata": {
    "collapsed": false,
    "pycharm": {
     "name": "#%%\n"
    }
   }
  },
  {
   "cell_type": "code",
   "execution_count": null,
   "outputs": [],
   "source": [
    "block_7.update_arena_bdf()"
   ],
   "metadata": {
    "collapsed": false,
    "pycharm": {
     "name": "#%%\n"
    }
   }
  },
  {
   "cell_type": "code",
   "execution_count": null,
   "outputs": [],
   "source": [
    "block_7.create_eye_brightness_df(30)"
   ],
   "metadata": {
    "collapsed": false,
    "pycharm": {
     "name": "#%%\n"
    }
   }
  },
  {
   "cell_type": "code",
   "execution_count": null,
   "outputs": [],
   "source": [
    "block_7.synchronize_by_led_blink()"
   ],
   "metadata": {
    "collapsed": false,
    "pycharm": {
     "name": "#%%\n"
    }
   }
  },
  {
   "cell_type": "code",
   "execution_count": null,
   "outputs": [],
   "source": [
    "block_4.manual_sync(30)"
   ],
   "metadata": {
    "collapsed": false,
    "pycharm": {
     "name": "#%%\n"
    }
   }
  },
  {
   "cell_type": "code",
   "execution_count": null,
   "outputs": [],
   "source": [
    "block_0.block_num"
   ],
   "metadata": {
    "collapsed": false,
    "pycharm": {
     "name": "#%%\n"
    }
   }
  },
  {
   "cell_type": "code",
   "execution_count": null,
   "outputs": [],
   "source": [
    "file_to_save_to = open(block_7.block_path / 'BlockSync.pickle','wb')\n",
    "pickle.dump(block_7,file_to_save_to)\n",
    "file_to_save_to.close()"
   ],
   "metadata": {
    "collapsed": false,
    "pycharm": {
     "name": "#%%\n"
    }
   }
  },
  {
   "cell_type": "code",
   "execution_count": null,
   "outputs": [],
   "source": [
    "block_7.create_synced_videos_validated()\n",
    "block_7.export_everything()"
   ],
   "metadata": {
    "collapsed": false,
    "pycharm": {
     "name": "#%%\n"
    }
   }
  },
  {
   "cell_type": "code",
   "execution_count": null,
   "outputs": [],
   "source": [
    "##### PHASE 2 #####"
   ],
   "metadata": {
    "collapsed": false,
    "pycharm": {
     "name": "#%%\n"
    }
   }
  },
  {
   "cell_type": "code",
   "execution_count": 7,
   "outputs": [],
   "source": [
    "def eye_tracking_analysis_v2(dlc_video_analysis_csv,uncertainty_thr):\n",
    "    \"\"\"\n",
    "    :param dlc_video_analysis_csv: the csv output of a dlc analysis of one video, already read by pandas with header=1\n",
    "    :param uncertainty_thr: The confidence P value to use as a threshold for datapoint validity in the analysis\n",
    "    :returns ellipse_df: a DataFrame of ellipses parameters (center, width, height, phi, size) for each video frame\n",
    "\n",
    "    \"\"\"\n",
    "# import the dataframe and convert it to floats\n",
    "    data = dlc_video_analysis_csv\n",
    "    data = data.iloc[1:].apply(pd.to_numeric)\n",
    "# sort the pupil elements to x and y, with p as probability\n",
    "    pupil_elements = np.array([x for x in data.columns if 'Pupil' in x])\n",
    "    pupil_xs = data[pupil_elements[np.arange(0,len(pupil_elements),3)]]\n",
    "    pupil_ys = data[pupil_elements[np.arange(1,len(pupil_elements),3)]]\n",
    "    pupil_ps = data[pupil_elements[np.arange(2,len(pupil_elements),3)]]\n",
    "    #rename dataframes for masking with p values of bad points:\n",
    "    pupil_ps = pupil_ps.rename(columns=dict(zip(pupil_ps.columns,pupil_xs.columns)))\n",
    "    pupil_ys = pupil_ys.rename(columns=dict(zip(pupil_ys.columns,pupil_xs.columns)))\n",
    "    good_points = pupil_ps > uncertainty_thr\n",
    "    pupil_xs = pupil_xs[good_points]\n",
    "    pupil_ys = pupil_ys[good_points]\n",
    "    #Do the same for the edges\n",
    "    #edge_elements = [x for x in data.columns if 'edge' in x]\n",
    "    #edge_xs = data[edge_elements[np.arange(0,len(edge_elements),3)]]\n",
    "    #edge_ys = data[edge_elements[np.arange(1,len(edge_elements),3)]]\n",
    "    #edge_ps = data[edge_elements[np.arange(2,len(edge_elements),3)]]\n",
    "    #edge_ps = edge_ps.rename(columns=dict(zip(edge_ps.columns,edge_xs.columns)))\n",
    "    #edge_ys = edge_ys.rename(columns=dict(zip(edge_ys.columns,edge_xs.columns)))\n",
    "    #e = edge_ps < uncertainty_thr\n",
    "\n",
    "\n",
    "    #work row by row to figure out the ellipses\n",
    "    ellipses = []\n",
    "    caudal_edge_ls= []\n",
    "    rostral_edge_ls = []\n",
    "    for row in tqdm(range(1, len(data)-1)):\n",
    "        #first, take all of the values, and concatenate them into an X array\n",
    "        x_values = pupil_xs.loc[row].values\n",
    "        y_values = pupil_ys.loc[row].values\n",
    "        X = np.c_[x_values,y_values]\n",
    "        #now, remove nan values, and check if there are enough points to make the ellipse\n",
    "        X = X[~ np.isnan(X).any(axis=1)]\n",
    "        #if there are enough rows for a fit, make an ellipse\n",
    "        if X.shape[0] > 5:\n",
    "            el = LsqEllipse().fit(X)\n",
    "            center, width, height, phi = el.as_parameters()\n",
    "            center_x = center[0]\n",
    "            center_y = center[1]\n",
    "            ellipses.append([center_x,center_y,width,height,phi])\n",
    "        else:\n",
    "            ellipses.append([np.nan, np.nan, np.nan, np.nan, np.nan])\n",
    "        # caudal_edge = [\n",
    "        #     float(data['Caudal_edge'][row]),\n",
    "        #     float(data['Caudal_edge.1'][row])\n",
    "        # ]\n",
    "        # rostral_edge = [\n",
    "        #     float(data['Rostral_edge'][row]),\n",
    "        #     float(data['Rostral_edge.1'][row])\n",
    "        # ]\n",
    "        # caudal_edge_ls.append(caudal_edge)\n",
    "        # rostral_edge_ls.append(rostral_edge)\n",
    "        #if row % 50 == 0:\n",
    "        #   print(f'just finished with {row} out of {len(data)-1}', end='\\r',flush=True)\n",
    "    ellipse_df = pd.DataFrame(columns = ['center_x','center_y', 'width', 'height', 'phi'], data = ellipses)\n",
    "    a = np.array(ellipse_df['height'][:])\n",
    "    b = np.array(ellipse_df['width'][:])\n",
    "    ellipse_size_per_frame = a*b*math.pi\n",
    "    ellipse_df['ellipse_size'] = ellipse_size_per_frame\n",
    "    #ellipse_df['rostral_edge'] = rostral_edge_ls\n",
    "    #ellipse_df['caudal_edge'] = caudal_edge_ls\n",
    "    print('\\n Done')\n",
    "    return ellipse_df"
   ],
   "metadata": {
    "collapsed": false,
    "pycharm": {
     "name": "#%%\n"
    }
   }
  },
  {
   "cell_type": "code",
   "execution_count": 8,
   "outputs": [],
   "source": [
    "import pandas as pd\n",
    "import numpy as np\n",
    "import glob\n",
    "from tqdm import tqdm\n",
    "from ellipse import LsqEllipse\n",
    "import math\n",
    "from bokeh.plotting import figure, show"
   ],
   "metadata": {
    "collapsed": false,
    "pycharm": {
     "name": "#%%\n"
    }
   }
  },
  {
   "cell_type": "code",
   "execution_count": null,
   "outputs": [],
   "source": [
    "for block_num in ['0','1','2','3','5','6','7']:\n",
    "    animal_number = '4'\n",
    "    experiment_date = '18_07_2021'\n",
    "    block = block_num\n",
    "    path = rf'D:\\experiments\\Animal_{animal_number}\\{experiment_date}\\block_{block}'\n",
    "    print(path)\n",
    "    le_csv = pd.read_csv(glob.glob(path + r'\\eye_videos\\LE\\**\\*DLC*.csv')[0],header=1)\n",
    "    re_csv = pd.read_csv(glob.glob(path + r'\\eye_videos\\RE\\**\\*DLC*.csv')[0],header=1)\n",
    "\n",
    "    le_ellipses = eye_tracking_analysis_v2(le_csv, 0.999)\n",
    "    print('\\n')\n",
    "    re_ellipses = eye_tracking_analysis_v2(re_csv, 0.999)\n",
    "    video_sync_df = pd.read_csv(path + r'\\analysis\\synced_videos_validated.csv')\n",
    "    le_video_sync_df = video_sync_df.drop(labels=['Arena_TTL','R_eye_TTL'],axis=1)\n",
    "    for column in list(le_ellipses.columns):\n",
    "        le_video_sync_df.insert(loc=len(le_video_sync_df.columns), column=column, value=None)\n",
    "    re_video_sync_df = video_sync_df.drop(labels=['Arena_TTL','L_eye_TTL'],axis=1)\n",
    "    for column in list(re_ellipses.columns):\n",
    "        re_video_sync_df.insert(loc=len(re_video_sync_df.columns), column=column, value=None)\n",
    "    print('populating le_video_sync_df')\n",
    "    for row in tqdm(le_video_sync_df.index):\n",
    "        frame = le_video_sync_df.L_eye_TTL[row]\n",
    "        le_video_sync_df.loc[row, 'center_x'] = le_ellipses.iloc[frame]['center_x']\n",
    "        le_video_sync_df.loc[row, 'center_y'] = le_ellipses.iloc[frame]['center_y']\n",
    "        le_video_sync_df.loc[row, 'width']= le_ellipses.width[frame]\n",
    "        le_video_sync_df.loc[row, 'height'] = le_ellipses.height[frame]\n",
    "        le_video_sync_df.loc[row, 'phi'] = le_ellipses.phi[frame]\n",
    "        le_video_sync_df.loc[row, 'ellipse_size'] = le_ellipses.ellipse_size[frame]\n",
    "        #le_video_sync_df.at[row, 'rostral_edge'] = le_ellipses.rostral_edge[frame]\n",
    "        #le_video_sync_df.at[row, 'caudal_edge'] = le_ellipses.caudal_edge[frame]\n",
    "    print('populating re_video_sync_df')\n",
    "    for row in tqdm(re_video_sync_df.index):\n",
    "        frame = re_video_sync_df.R_eye_TTL[row]\n",
    "        re_video_sync_df.loc[row, 'center_x'] = re_ellipses.iloc[frame]['center_x']\n",
    "        re_video_sync_df.loc[row, 'center_y'] = re_ellipses.iloc[frame]['center_y']\n",
    "        re_video_sync_df.loc[row, 'width']= re_ellipses.width[frame]\n",
    "        re_video_sync_df.loc[row, 'height'] = re_ellipses.height[frame]\n",
    "        re_video_sync_df.loc[row, 'phi'] = re_ellipses.phi[frame]\n",
    "        re_video_sync_df.loc[row, 'ellipse_size'] = re_ellipses.ellipse_size[frame]\n",
    "        #re_video_sync_df.at[row, 'rostral_edge'] = re_ellipses.rostral_edge[frame]\n",
    "        #re_video_sync_df.at[row, 'caudal_edge'] = re_ellipses.caudal_edge[frame]\n",
    "\n",
    "    first_frame_time = le_video_sync_df.Time.values[0]\n",
    "    le_video_sync_df\n",
    "\n",
    "    le_ellipses_z = (le_video_sync_df.ellipse_size - le_video_sync_df.ellipse_size.mean()) / le_video_sync_df.ellipse_size.std()\n",
    "    re_ellipses_z = (re_video_sync_df.ellipse_size - re_video_sync_df.ellipse_size.mean()) / re_video_sync_df.ellipse_size.std()\n",
    "    le_x_zscores = (le_video_sync_df.center_x - np.mean(le_video_sync_df.center_x)) / le_video_sync_df.center_x.std()\n",
    "    le_y_zscores = (le_video_sync_df.center_y - np.mean(le_video_sync_df.center_y)) / le_video_sync_df.center_y.std()\n",
    "    re_x_zscores = (re_video_sync_df.center_x - np.mean(re_video_sync_df.center_x)) / re_video_sync_df.center_x.std()\n",
    "    re_y_zscores = (re_video_sync_df.center_y - np.mean(re_video_sync_df.center_y)) / re_video_sync_df.center_y.std()\n",
    "    x_axis = le_video_sync_df.Time[range(len(le_ellipses_z))] - first_frame_time\n",
    "\n",
    "    bokeh_fig = figure(title='Pupil combined metrics : '+str(path),\n",
    "                       x_axis_label='Record Time',\n",
    "                       y_axis_label=' Z scores',\n",
    "                       plot_width=1500,\n",
    "                       plot_height=700\n",
    "                       )\n",
    "\n",
    "    bokeh_fig.line(x_axis, le_ellipses_z + 7, legend_label='Left Eye diameter', line_width=1.5, line_color='blue')\n",
    "    bokeh_fig.line(x_axis, le_x_zscores + 14, legend_label='Left Eye x position', line_width=1, line_color='cyan')\n",
    "    bokeh_fig.line(x_axis, le_y_zscores, legend_label='Left Eye y position', line_width=1, line_color='green')\n",
    "    bokeh_fig.line(x_axis, re_ellipses_z + 7, legend_label='Right Eye diameter', line_width=1.5, line_color='red')\n",
    "    bokeh_fig.line(x_axis, re_x_zscores + 14, legend_label='Right Eye x position', line_width=1, line_color='orange')\n",
    "    bokeh_fig.line(x_axis, re_y_zscores, legend_label='Right Eye y position', line_width=1, line_color='pink')\n",
    "    #bokeh_fig.line(x_axis, np.gradient(re_ellipses_z), legend_label='RE Gradient', line_width=1, line_color='green')\n",
    "    show(bokeh_fig)\n",
    "\n"
   ],
   "metadata": {
    "collapsed": false,
    "pycharm": {
     "name": "#%% Define the block for analysis and import the necessary files into the class\n"
    }
   }
  },
  {
   "cell_type": "code",
   "execution_count": 3,
   "outputs": [
    {
     "name": "stdout",
     "output_type": "stream",
     "text": [
      "4\n",
      "4\n"
     ]
    }
   ],
   "source": [
    "for ind, block in enumerate(blocklist):\n",
    "    if block.block_num == '4':\n",
    "        print(block.block_num)\n",
    "        print(ind)\n",
    "    else:\n",
    "        block.import_everything()"
   ],
   "metadata": {
    "collapsed": false,
    "pycharm": {
     "name": "#%%\n"
    }
   }
  },
  {
   "cell_type": "code",
   "execution_count": 4,
   "outputs": [
    {
     "data": {
      "text/plain": "BlockSync object with block_num 4"
     },
     "execution_count": 4,
     "metadata": {},
     "output_type": "execute_result"
    }
   ],
   "source": [
    "blocklist.pop(4)"
   ],
   "metadata": {
    "collapsed": false,
    "pycharm": {
     "name": "#%%\n"
    }
   }
  },
  {
   "cell_type": "code",
   "execution_count": 5,
   "outputs": [
    {
     "name": "stderr",
     "output_type": "stream",
     "text": [
      "100%|██████████| 14840/14840 [00:08<00:00, 1775.66it/s]\n",
      "100%|██████████| 14847/14847 [00:07<00:00, 1856.06it/s]\n",
      "100%|██████████| 13741/13741 [00:27<00:00, 500.74it/s]\n",
      "100%|██████████| 13741/13741 [00:27<00:00, 492.04it/s]\n",
      "100%|██████████| 14426/14426 [00:08<00:00, 1733.41it/s]\n",
      "100%|██████████| 14446/14446 [00:07<00:00, 1911.50it/s]\n",
      "100%|██████████| 13741/13741 [01:00<00:00, 225.35it/s]\n",
      "100%|██████████| 13741/13741 [01:02<00:00, 218.13it/s]\n",
      "100%|██████████| 14744/14744 [00:10<00:00, 1367.42it/s]\n",
      "100%|██████████| 14736/14736 [00:10<00:00, 1372.85it/s]\n",
      "100%|██████████| 13743/13743 [01:00<00:00, 226.14it/s]\n",
      "100%|██████████| 13743/13743 [01:00<00:00, 227.44it/s]\n",
      "100%|██████████| 9863/9863 [00:07<00:00, 1357.55it/s]\n",
      "100%|██████████| 9867/9867 [00:05<00:00, 1706.73it/s]\n",
      "100%|██████████| 8821/8821 [00:29<00:00, 297.99it/s]\n",
      "100%|██████████| 8821/8821 [00:29<00:00, 295.58it/s]\n",
      "100%|██████████| 12068/12068 [00:08<00:00, 1354.93it/s]\n",
      "100%|██████████| 12065/12065 [00:06<00:00, 1845.85it/s]\n",
      "100%|██████████| 11343/11343 [00:44<00:00, 255.53it/s]\n",
      "100%|██████████| 11343/11343 [00:48<00:00, 236.01it/s]\n",
      "100%|██████████| 16835/16835 [00:13<00:00, 1289.33it/s]\n",
      "100%|██████████| 16835/16835 [00:13<00:00, 1257.54it/s]\n",
      "100%|██████████| 12541/12541 [00:56<00:00, 221.92it/s]\n",
      "100%|██████████| 12541/12541 [00:59<00:00, 211.96it/s]\n",
      "100%|██████████| 15246/15246 [00:15<00:00, 990.42it/s] \n",
      "100%|██████████| 15244/15244 [00:11<00:00, 1357.96it/s]\n",
      "100%|██████████| 13741/13741 [01:10<00:00, 195.70it/s]\n",
      "100%|██████████| 13741/13741 [01:06<00:00, 206.89it/s]\n"
     ]
    },
    {
     "name": "stdout",
     "output_type": "stream",
     "text": [
      "\n",
      " Done\n",
      "\n",
      " Done\n",
      "populating le_video_sync_df\n",
      "populating re_video_sync_df\n",
      "\n",
      " Done\n",
      "\n",
      " Done\n",
      "populating le_video_sync_df\n",
      "populating re_video_sync_df\n",
      "\n",
      " Done\n",
      "\n",
      " Done\n",
      "populating le_video_sync_df\n",
      "populating re_video_sync_df\n",
      "\n",
      " Done\n",
      "\n",
      " Done\n",
      "populating le_video_sync_df\n",
      "populating re_video_sync_df\n",
      "\n",
      " Done\n",
      "\n",
      " Done\n",
      "populating le_video_sync_df\n",
      "populating re_video_sync_df\n",
      "\n",
      " Done\n",
      "\n",
      " Done\n",
      "populating le_video_sync_df\n",
      "populating re_video_sync_df\n",
      "\n",
      " Done\n",
      "\n",
      " Done\n",
      "populating le_video_sync_df\n",
      "populating re_video_sync_df\n"
     ]
    }
   ],
   "source": [
    "for block in blocklist:\n",
    "    block.read_dlc_data()"
   ],
   "metadata": {
    "collapsed": false,
    "pycharm": {
     "name": "#%%\n"
    }
   }
  },
  {
   "cell_type": "code",
   "execution_count": 9,
   "outputs": [],
   "source": [
    "generator = block_0.block_path.glob(r'eye_videos\\LE\\**\\*DLC*.csv')"
   ],
   "metadata": {
    "collapsed": false,
    "pycharm": {
     "name": "#%%\n"
    }
   }
  },
  {
   "cell_type": "code",
   "execution_count": 10,
   "outputs": [
    {
     "data": {
      "text/plain": "                 center_x    center_y      width     height       phi  \\\nblock_0 0      260.179857  185.501207  43.166207  39.919914  0.053955   \n        1      260.293307  185.506411  43.082061  39.815916  0.052303   \n        2      260.274120  185.511999  43.046617  39.758611  0.052419   \n        3      260.138567  185.498857  43.061174  39.785922  0.067378   \n        4      260.214086  185.561911  43.056265  39.867469  0.047372   \n...                   ...         ...        ...        ...       ...   \nblock_1 14441  233.271468  198.214537  45.334997  41.042013 -0.470627   \n        14442  233.431119  198.126628  45.379001  41.025202 -0.492387   \n        14443  233.468391  198.109616  45.336925  41.005348 -0.456247   \n        14444  233.344425  198.008292  45.301183  41.103743 -0.466260   \n        14445  233.580870  197.999173  45.289935  41.055390 -0.459757   \n\n               ellipse_size  \nblock_0 0       5413.564929  \n        1       5388.936285  \n        2       5376.753173  \n        3       5382.266070  \n        4       5392.683006  \n...                     ...  \nblock_1 14441   5845.371452  \n        14442   5848.648563  \n        14443   5840.397861  \n        14444   5849.796848  \n        14445   5841.464558  \n\n[29293 rows x 6 columns]",
      "text/html": "<div>\n<style scoped>\n    .dataframe tbody tr th:only-of-type {\n        vertical-align: middle;\n    }\n\n    .dataframe tbody tr th {\n        vertical-align: top;\n    }\n\n    .dataframe thead th {\n        text-align: right;\n    }\n</style>\n<table border=\"1\" class=\"dataframe\">\n  <thead>\n    <tr style=\"text-align: right;\">\n      <th></th>\n      <th></th>\n      <th>center_x</th>\n      <th>center_y</th>\n      <th>width</th>\n      <th>height</th>\n      <th>phi</th>\n      <th>ellipse_size</th>\n    </tr>\n  </thead>\n  <tbody>\n    <tr>\n      <th rowspan=\"5\" valign=\"top\">block_0</th>\n      <th>0</th>\n      <td>260.179857</td>\n      <td>185.501207</td>\n      <td>43.166207</td>\n      <td>39.919914</td>\n      <td>0.053955</td>\n      <td>5413.564929</td>\n    </tr>\n    <tr>\n      <th>1</th>\n      <td>260.293307</td>\n      <td>185.506411</td>\n      <td>43.082061</td>\n      <td>39.815916</td>\n      <td>0.052303</td>\n      <td>5388.936285</td>\n    </tr>\n    <tr>\n      <th>2</th>\n      <td>260.274120</td>\n      <td>185.511999</td>\n      <td>43.046617</td>\n      <td>39.758611</td>\n      <td>0.052419</td>\n      <td>5376.753173</td>\n    </tr>\n    <tr>\n      <th>3</th>\n      <td>260.138567</td>\n      <td>185.498857</td>\n      <td>43.061174</td>\n      <td>39.785922</td>\n      <td>0.067378</td>\n      <td>5382.266070</td>\n    </tr>\n    <tr>\n      <th>4</th>\n      <td>260.214086</td>\n      <td>185.561911</td>\n      <td>43.056265</td>\n      <td>39.867469</td>\n      <td>0.047372</td>\n      <td>5392.683006</td>\n    </tr>\n    <tr>\n      <th>...</th>\n      <th>...</th>\n      <td>...</td>\n      <td>...</td>\n      <td>...</td>\n      <td>...</td>\n      <td>...</td>\n      <td>...</td>\n    </tr>\n    <tr>\n      <th rowspan=\"5\" valign=\"top\">block_1</th>\n      <th>14441</th>\n      <td>233.271468</td>\n      <td>198.214537</td>\n      <td>45.334997</td>\n      <td>41.042013</td>\n      <td>-0.470627</td>\n      <td>5845.371452</td>\n    </tr>\n    <tr>\n      <th>14442</th>\n      <td>233.431119</td>\n      <td>198.126628</td>\n      <td>45.379001</td>\n      <td>41.025202</td>\n      <td>-0.492387</td>\n      <td>5848.648563</td>\n    </tr>\n    <tr>\n      <th>14443</th>\n      <td>233.468391</td>\n      <td>198.109616</td>\n      <td>45.336925</td>\n      <td>41.005348</td>\n      <td>-0.456247</td>\n      <td>5840.397861</td>\n    </tr>\n    <tr>\n      <th>14444</th>\n      <td>233.344425</td>\n      <td>198.008292</td>\n      <td>45.301183</td>\n      <td>41.103743</td>\n      <td>-0.466260</td>\n      <td>5849.796848</td>\n    </tr>\n    <tr>\n      <th>14445</th>\n      <td>233.580870</td>\n      <td>197.999173</td>\n      <td>45.289935</td>\n      <td>41.055390</td>\n      <td>-0.459757</td>\n      <td>5841.464558</td>\n    </tr>\n  </tbody>\n</table>\n<p>29293 rows × 6 columns</p>\n</div>"
     },
     "execution_count": 10,
     "metadata": {},
     "output_type": "execute_result"
    }
   ],
   "source": [
    "re_ellipses_0 = block_0.re_ellipses\n",
    "re_ellipses_1 = block_1.re_ellipses\n",
    "df = pd.concat([re_ellipses_0, re_ellipses_1],keys=['block_0','block_1'])\n",
    "df"
   ],
   "metadata": {
    "collapsed": false,
    "pycharm": {
     "name": "#%%\n"
    }
   }
  },
  {
   "cell_type": "code",
   "execution_count": 13,
   "outputs": [],
   "source": [
    "re_dfs_to_concat = []\n",
    "le_dfs_to_concat =[]\n",
    "keys = []\n",
    "breaks = [0]\n",
    "for block in blocklist:\n",
    "    keys.append(f'block_{block.block_num}')\n",
    "    re_dfs_to_concat.append(block.re_video_sync_df)\n",
    "    le_dfs_to_concat.append(block.le_video_sync_df)\n",
    "    breaks.append(len(block.re_video_sync_df)+breaks[-1])"
   ],
   "metadata": {
    "collapsed": false,
    "pycharm": {
     "name": "#%% Fuse mega dataframe out of all processed blocks\n"
    }
   }
  },
  {
   "cell_type": "code",
   "execution_count": 14,
   "outputs": [],
   "source": [
    "re_mega_df = pd.concat(re_dfs_to_concat, keys=keys)\n",
    "le_mega_df = pd.concat(le_dfs_to_concat, keys=keys)"
   ],
   "metadata": {
    "collapsed": false,
    "pycharm": {
     "name": "#%%\n"
    }
   }
  },
  {
   "cell_type": "code",
   "execution_count": 15,
   "outputs": [
    {
     "data": {
      "text/plain": "[0, 13741, 27482, 41225, 50046, 61389, 73930, 87671]"
     },
     "execution_count": 15,
     "metadata": {},
     "output_type": "execute_result"
    }
   ],
   "source": [
    "breaks"
   ],
   "metadata": {
    "collapsed": false,
    "pycharm": {
     "name": "#%%\n"
    }
   }
  },
  {
   "cell_type": "code",
   "execution_count": 66,
   "outputs": [],
   "source": [
    "#Extract the data columns and calculate Z-score across all blocks\n",
    "le_ellipses_z = (le_mega_df.ellipse_size - le_mega_df.ellipse_size.mean()) / le_mega_df.ellipse_size.std()\n",
    "re_ellipses_z = (re_mega_df.ellipse_size - re_mega_df.ellipse_size.mean()) / re_mega_df.ellipse_size.std()\n",
    "le_x_zscores = (le_mega_df.center_x - np.mean(le_mega_df.center_x)) / le_mega_df.center_x.std()\n",
    "le_y_zscores = (le_mega_df.center_y - np.mean(le_mega_df.center_y)) / le_mega_df.center_y.std()\n",
    "re_x_zscores = (re_mega_df.center_x - np.mean(re_mega_df.center_x)) / re_mega_df.center_x.std()\n",
    "re_y_zscores = (re_mega_df.center_y - np.mean(re_mega_df.center_y)) / re_mega_df.center_y.std()\n",
    "x_axis = range(len(le_ellipses_z))"
   ],
   "metadata": {
    "collapsed": false,
    "pycharm": {
     "name": "#%% Plot all blocks together\n"
    }
   }
  },
  {
   "cell_type": "code",
   "execution_count": 67,
   "outputs": [],
   "source": [
    "# plot everything\n",
    "bokeh_fig = figure(title='Pupil combined metrics',\n",
    "                   x_axis_label='Linear Frames',\n",
    "                   y_axis_label=' Z scores',\n",
    "                   plot_width=1500,\n",
    "                   plot_height=700\n",
    "                   )\n",
    "\n",
    "#bokeh_fig.line(x_axis, le_ellipses_z + 7, legend_label='Left Eye diameter', line_width=1.5, line_color='blue')\n",
    "#bokeh_fig.line(x_axis, le_x_zscores + 14, legend_label='Left Eye x position', line_width=1, line_color='cyan')\n",
    "#bokeh_fig.line(x_axis, le_y_zscores, legend_label='Left Eye y position', line_width=1, line_color='green')\n",
    "bokeh_fig.line(x_axis, re_ellipses_z + 7, legend_label='Right Eye diameter', line_width=1.5, line_color='red')\n",
    "bokeh_fig.line(x_axis, re_x_zscores + 14, legend_label='Right Eye x position', line_width=1, line_color='orange')\n",
    "bokeh_fig.line(x_axis, re_y_zscores, legend_label='Right Eye y position', line_width=1, line_color='pink')\n",
    "bokeh_fig.cross(breaks, [-5,-5,-5,-5,-5,-5,-5,-5], size=20, color=\"navy\", alpha=0.5)\n",
    "#bokeh_fig.line(x_axis, np.gradient(re_ellipses_z), legend_label='RE Gradient', line_width=1, line_color='green')\n",
    "show(bokeh_fig)"
   ],
   "metadata": {
    "collapsed": false,
    "pycharm": {
     "name": "#%%\n"
    }
   }
  },
  {
   "cell_type": "code",
   "execution_count": null,
   "outputs": [],
   "source": [
    "# parse it\n",
    "\n",
    "# cross-correlate all to all\n",
    "# dendrogram"
   ],
   "metadata": {
    "collapsed": false,
    "pycharm": {
     "name": "#%%\n"
    }
   }
  }
 ],
 "metadata": {
  "kernelspec": {
   "display_name": "Python 3",
   "language": "python",
   "name": "python3"
  },
  "language_info": {
   "codemirror_mode": {
    "name": "ipython",
    "version": 2
   },
   "file_extension": ".py",
   "mimetype": "text/x-python",
   "name": "python",
   "nbconvert_exporter": "python",
   "pygments_lexer": "ipython2",
   "version": "2.7.6"
  }
 },
 "nbformat": 4,
 "nbformat_minor": 0
}