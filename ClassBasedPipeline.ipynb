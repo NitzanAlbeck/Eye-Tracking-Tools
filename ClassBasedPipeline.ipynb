{
 "cells": [
  {
   "cell_type": "code",
   "execution_count": 1,
   "metadata": {
    "collapsed": true
   },
   "outputs": [],
   "source": [
    "from block_sync_class import *\n",
    "from bokeh.plotting import figure, show"
   ]
  },
  {
   "cell_type": "code",
   "execution_count": 2,
   "outputs": [
    {
     "name": "stdout",
     "output_type": "stream",
     "text": [
      "instantiated block number 0 at Path: D:\\experiments\\Animal_007\\19_04_2021\\block_0\n"
     ]
    }
   ],
   "source": [
    "block_0 = BlockSync(animal_num='007',\n",
    "                    experiment_date='19_04_2021',\n",
    "                    block_num='0',\n",
    "                    path_to_animal_folder=r'D:\\experiments\\\\')"
   ],
   "metadata": {
    "collapsed": false,
    "pycharm": {
     "name": "#%%\n"
    }
   }
  },
  {
   "cell_type": "code",
   "execution_count": 3,
   "outputs": [
    {
     "name": "stdout",
     "output_type": "stream",
     "text": [
      "Arena video Names:\n",
      "block0_back_20210419_143946.mp4\n",
      "block0_left_20210419_143946.mp4\n",
      "block0_right_20210419_143946.mp4\n",
      "block0_top_20210419_143946.mp4\n"
     ]
    }
   ],
   "source": [
    "block_0.handle_arena_files()"
   ],
   "metadata": {
    "collapsed": false,
    "pycharm": {
     "name": "#%%\n"
    }
   }
  },
  {
   "cell_type": "code",
   "execution_count": 4,
   "outputs": [
    {
     "name": "stdout",
     "output_type": "stream",
     "text": [
      "converting videos...\n",
      "converting files: ['D:\\\\experiments\\\\Animal_007\\\\19_04_2021\\\\block_0\\\\eye_videos\\\\LE\\\\taltrial_with_arena_640x480_60hz_experiment_1_recording_0\\\\taltrial_with_arena.h264', 'D:\\\\experiments\\\\Animal_007\\\\19_04_2021\\\\block_0\\\\eye_videos\\\\RE\\\\taltrial_with_arena_640x480_60hz_experiment_1_recording_0\\\\taltrial_with_arena.h264']\n",
      "The file D:\\experiments\\Animal_007\\19_04_2021\\block_0\\eye_videos\\LE\\taltrial_with_arena_640x480_60hz_experiment_1_recording_0\\taltrial_with_arena.mp4 already exists, no conversion necessary\n",
      "The file D:\\experiments\\Animal_007\\19_04_2021\\block_0\\eye_videos\\RE\\taltrial_with_arena_640x480_60hz_experiment_1_recording_0\\taltrial_with_arena.mp4 already exists, no conversion necessary\n",
      "Validating videos...\n",
      "The video named taltrial_with_arena.mp4 has reported 7635 frames and has 7636 frames, it has dropped -1 frames\n",
      "The video named taltrial_with_arena_LE.mp4 has reported 7659 frames and has 7636 frames, it has dropped 23 frames\n"
     ]
    },
    {
     "ename": "IndexError",
     "evalue": "list index out of range",
     "output_type": "error",
     "traceback": [
      "\u001B[1;31m---------------------------------------------------------------------------\u001B[0m",
      "\u001B[1;31mIndexError\u001B[0m                                Traceback (most recent call last)",
      "\u001B[1;32m<ipython-input-4-8a4d49b233c4>\u001B[0m in \u001B[0;36m<module>\u001B[1;34m\u001B[0m\n\u001B[1;32m----> 1\u001B[1;33m \u001B[0mblock_0\u001B[0m\u001B[1;33m.\u001B[0m\u001B[0mhandle_eye_videos\u001B[0m\u001B[1;33m(\u001B[0m\u001B[1;33m)\u001B[0m\u001B[1;33m\u001B[0m\u001B[1;33m\u001B[0m\u001B[0m\n\u001B[0m",
      "\u001B[1;32m~\\PycharmProjects\\pythonProject3\\block_sync_class.py\u001B[0m in \u001B[0;36mhandle_eye_videos\u001B[1;34m(self)\u001B[0m\n\u001B[0;32m    123\u001B[0m         \u001B[0mtimestamps_to_inspect\u001B[0m \u001B[1;33m=\u001B[0m \u001B[0mglob\u001B[0m\u001B[1;33m.\u001B[0m\u001B[0mglob\u001B[0m\u001B[1;33m(\u001B[0m\u001B[0mstr\u001B[0m\u001B[1;33m(\u001B[0m\u001B[0meye_vid_path\u001B[0m\u001B[1;33m)\u001B[0m \u001B[1;33m+\u001B[0m \u001B[1;34mr'\\**\\*.csv'\u001B[0m\u001B[1;33m,\u001B[0m \u001B[0mrecursive\u001B[0m\u001B[1;33m=\u001B[0m\u001B[1;32mTrue\u001B[0m\u001B[1;33m)\u001B[0m\u001B[1;33m\u001B[0m\u001B[1;33m\u001B[0m\u001B[0m\n\u001B[0;32m    124\u001B[0m         \u001B[1;32mfor\u001B[0m \u001B[0mvid\u001B[0m \u001B[1;32min\u001B[0m \u001B[0mrange\u001B[0m\u001B[1;33m(\u001B[0m\u001B[0mlen\u001B[0m\u001B[1;33m(\u001B[0m\u001B[0mvideos_to_inspect\u001B[0m\u001B[1;33m)\u001B[0m\u001B[1;33m)\u001B[0m\u001B[1;33m:\u001B[0m\u001B[1;33m\u001B[0m\u001B[1;33m\u001B[0m\u001B[0m\n\u001B[1;32m--> 125\u001B[1;33m             \u001B[0mtimestamps\u001B[0m \u001B[1;33m=\u001B[0m \u001B[0mpd\u001B[0m\u001B[1;33m.\u001B[0m\u001B[0mread_csv\u001B[0m\u001B[1;33m(\u001B[0m\u001B[0mtimestamps_to_inspect\u001B[0m\u001B[1;33m[\u001B[0m\u001B[0mvid\u001B[0m\u001B[1;33m]\u001B[0m\u001B[1;33m)\u001B[0m\u001B[1;33m\u001B[0m\u001B[1;33m\u001B[0m\u001B[0m\n\u001B[0m\u001B[0;32m    126\u001B[0m             \u001B[0mnum_reported\u001B[0m \u001B[1;33m=\u001B[0m \u001B[0mtimestamps\u001B[0m\u001B[1;33m.\u001B[0m\u001B[0mshape\u001B[0m\u001B[1;33m[\u001B[0m\u001B[1;36m0\u001B[0m\u001B[1;33m]\u001B[0m\u001B[1;33m\u001B[0m\u001B[1;33m\u001B[0m\u001B[0m\n\u001B[0;32m    127\u001B[0m             \u001B[0mcap\u001B[0m \u001B[1;33m=\u001B[0m \u001B[0mcv2\u001B[0m\u001B[1;33m.\u001B[0m\u001B[0mVideoCapture\u001B[0m\u001B[1;33m(\u001B[0m\u001B[0mvideos_to_inspect\u001B[0m\u001B[1;33m[\u001B[0m\u001B[0mvid\u001B[0m\u001B[1;33m]\u001B[0m\u001B[1;33m)\u001B[0m\u001B[1;33m\u001B[0m\u001B[1;33m\u001B[0m\u001B[0m\n",
      "\u001B[1;31mIndexError\u001B[0m: list index out of range"
     ]
    }
   ],
   "source": [
    "block_0.handle_eye_videos()"
   ],
   "metadata": {
    "collapsed": false,
    "pycharm": {
     "name": "#%%\n"
    }
   }
  },
  {
   "cell_type": "code",
   "execution_count": 5,
   "outputs": [
    {
     "name": "stderr",
     "output_type": "stream",
     "text": [
      "100%|██████████| 8656/8656 [00:07<00:00, 1221.44it/s]\n"
     ]
    },
    {
     "name": "stdout",
     "output_type": "stream",
     "text": [
      "Synchronizing the different arena videos\n",
      "The anchor video used was \"block0_back_20210419_143946.mp4\"\n"
     ]
    }
   ],
   "source": [
    "block_0.synchronize_arena_timestamps()\n"
   ],
   "metadata": {
    "collapsed": false,
    "pycharm": {
     "name": "#%%\n"
    }
   }
  },
  {
   "cell_type": "code",
   "execution_count": 12,
   "outputs": [
    {
     "name": "stdout",
     "output_type": "stream",
     "text": [
      "working on video D:\\experiments\\Animal_007\\19_04_2021\\block_0\\arena_videos\\block0_back_20210419_143946.mp4\n",
      "working on video D:\\experiments\\Animal_007\\19_04_2021\\block_0\\arena_videos\\block0_left_20210419_143946.mp4\n",
      "working on video D:\\experiments\\Animal_007\\19_04_2021\\block_0\\arena_videos\\block0_right_20210419_143946.mp4\n",
      "working on video D:\\experiments\\Animal_007\\19_04_2021\\block_0\\arena_videos\\block0_top_20210419_143946.mp4\n",
      "done, frame_val_list contains 4 objects\n"
     ]
    }
   ],
   "source": [
    "block_0.create_arena_brightness_df(250)"
   ],
   "metadata": {
    "collapsed": false,
    "pycharm": {
     "name": "#%%\n"
    }
   }
  },
  {
   "cell_type": "code",
   "execution_count": 13,
   "outputs": [],
   "source": [
    "block_0.validate_arena_synchronization()"
   ],
   "metadata": {
    "collapsed": false,
    "pycharm": {
     "name": "#%%\n"
    }
   }
  },
  {
   "cell_type": "code",
   "execution_count": null,
   "outputs": [],
   "source": [],
   "metadata": {
    "collapsed": false,
    "pycharm": {
     "name": "#%%\n"
    }
   }
  }
 ],
 "metadata": {
  "kernelspec": {
   "display_name": "Python 3",
   "language": "python",
   "name": "python3"
  },
  "language_info": {
   "codemirror_mode": {
    "name": "ipython",
    "version": 2
   },
   "file_extension": ".py",
   "mimetype": "text/x-python",
   "name": "python",
   "nbconvert_exporter": "python",
   "pygments_lexer": "ipython2",
   "version": "2.7.6"
  }
 },
 "nbformat": 4,
 "nbformat_minor": 0
}