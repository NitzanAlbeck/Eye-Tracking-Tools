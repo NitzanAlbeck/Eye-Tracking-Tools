{
 "cells": [
  {
   "cell_type": "code",
   "execution_count": 1,
   "metadata": {
    "collapsed": true
   },
   "outputs": [],
   "source": [
    "import UtilityFunctions as uf\n",
    "import cv2\n",
    "import numpy as np\n",
    "import pandas as pd\n",
    "import scipy.stats as stats\n",
    "from matplotlib import pyplot as plt\n",
    "plt.style.use('ggplot')\n",
    "import itertools as itr"
   ]
  },
  {
   "cell_type": "code",
   "execution_count": 2,
   "outputs": [],
   "source": [
    "#Led off validation step\n",
    "def led_off_frame_validation(vidpath, led_off_frames):\n",
    "    validated_led_off = []\n",
    "    cap = cv2.VideoCapture(vidpath)\n",
    "    breaker = 0\n",
    "    i = 0\n",
    "    while breaker == 0:\n",
    "        if i == len(led_off_frames):\n",
    "            breaker = 1\n",
    "        if breaker == 1:\n",
    "            break\n",
    "        f = led_off_frames[i]\n",
    "        cap.set(cv2.CAP_PROP_POS_FRAMES, f)\n",
    "        ret, frame = cap.read()\n",
    "        frame = cv2.putText(frame, f'frame number {str(f)}', (100, 100), 1, 5, (255, 255, 0), 3)\n",
    "        cv2.imshow('validation', frame)\n",
    "        key = ord('a')\n",
    "        while key not in [ord('q'), ord('k'), ord('s'), ord('b'), ord('z'), ord('x')]:\n",
    "            key = cv2.waitKey(0)\n",
    "            if key == ord('q'):\n",
    "                breaker = 1\n",
    "                break\n",
    "            elif key == ord('k'):\n",
    "                if not f in validated_led_off:\n",
    "                    validated_led_off.append(f)\n",
    "                i += 1\n",
    "                break\n",
    "            elif key == ord('s'):\n",
    "                if f in validated_led_off:\n",
    "                    validated_led_off.remove(f)\n",
    "                i+=1\n",
    "                break\n",
    "            elif key == ord('b'):\n",
    "                i = i - 1\n",
    "                break\n",
    "            elif key == ord('z'):\n",
    "                if i != 0:\n",
    "                    if led_off_frames[i - 1] != led_off_frames[i] - 1:\n",
    "                        led_off_frames[i] = led_off_frames[i] - 1\n",
    "                break\n",
    "            elif key == ord('x'):\n",
    "                if i != len(led_off_frames)-1:\n",
    "                    if led_off_frames[i + 1] != led_off_frames[i] + 1:\n",
    "                        led_off_frames[i] = led_off_frames[i] + 1\n",
    "                break\n",
    "\n",
    "    cap.release()\n",
    "    cv2.destroyAllWindows()\n",
    "    return validated_led_off"
   ],
   "metadata": {
    "collapsed": false,
    "pycharm": {
     "name": "#%% function definitions\n"
    }
   }
  },
  {
   "cell_type": "code",
   "execution_count": 3,
   "outputs": [],
   "source": [
    "def compress_frames(led_off_frames_ndarry):\n",
    "    clustered_off_frames = []\n",
    "    if type(led_off_frames_ndarry) == type(np.array([])):\n",
    "        led_off_frames = led_off_frames_ndarry.tolist()\n",
    "    else:\n",
    "        led_off_frames = led_off_frames_ndarry\n",
    "    if len(led_off_frames) == 0:\n",
    "        print('no frames in the list')\n",
    "        return []\n",
    "    clust_count = 0\n",
    "    start_clust = 0\n",
    "    end_clust = 0\n",
    "    for c in range(len(led_off_frames)-1):\n",
    "        if clust_count == 0:\n",
    "            start_clust = led_off_frames[c]\n",
    "            end_clust = 0\n",
    "        if led_off_frames[c] == led_off_frames[c+1] - 1:\n",
    "            clust_count += 1\n",
    "            continue\n",
    "        else:\n",
    "            end_clust = led_off_frames[c]\n",
    "\n",
    "        if start_clust == end_clust:\n",
    "            clustered_off_frames.append(start_clust)\n",
    "        elif end_clust > start_clust:\n",
    "            clustered_off_frames.append(start_clust)\n",
    "            clustered_off_frames.append(end_clust)\n",
    "        clust_count = 0\n",
    "    if clust_count != 0:\n",
    "        clustered_off_frames.append(start_clust)\n",
    "        clustered_off_frames.append(led_off_frames[c])\n",
    "\n",
    "    clustered_off_frames.append(led_off_frames[-1])\n",
    "    return clustered_off_frames"
   ],
   "metadata": {
    "collapsed": false,
    "pycharm": {
     "name": "#%%\n"
    }
   }
  },
  {
   "cell_type": "code",
   "execution_count": 4,
   "outputs": [],
   "source": [
    "def compress_frames_corrected(led_off_frames_ndarry,bite):\n",
    "    clustered_off_frames = []\n",
    "    if type(led_off_frames_ndarry) == type(np.array([])):\n",
    "        led_off_frames = led_off_frames_ndarry.tolist()\n",
    "    else:\n",
    "        led_off_frames = led_off_frames_ndarry\n",
    "    if len(led_off_frames) == 0:\n",
    "        print('no frames in the list')\n",
    "        return []\n",
    "    clust_count = 0\n",
    "    start_clust = 0\n",
    "    end_clust = 0\n",
    "    for c in range(len(led_off_frames)-1):\n",
    "        if clust_count == 0:\n",
    "            start_clust = led_off_frames[c]\n",
    "            end_clust = 0\n",
    "        if led_off_frames[c] == led_off_frames[c+1] - 1:\n",
    "            clust_count += 1\n",
    "            continue\n",
    "        else:\n",
    "            end_clust = led_off_frames[c]\n",
    "\n",
    "        if start_clust == end_clust:\n",
    "            clustered_off_frames.append(start_clust)\n",
    "        elif end_clust > start_clust:\n",
    "            clustered_off_frames.append(start_clust+bite)\n",
    "            clustered_off_frames.append(end_clust-bite)\n",
    "        clust_count = 0\n",
    "    if clust_count != 0:\n",
    "        clustered_off_frames.append(start_clust)\n",
    "        clustered_off_frames.append(led_off_frames[c])\n",
    "\n",
    "    clustered_off_frames.append(led_off_frames[-1])\n",
    "    return clustered_off_frames"
   ],
   "metadata": {
    "collapsed": false,
    "pycharm": {
     "name": "#%% Trying to find the led_off frames in the cluster by biting into it\n"
    }
   }
  },
  {
   "cell_type": "code",
   "execution_count": 5,
   "outputs": [],
   "source": [
    "def find_suspected_frames(vidname,frame_val,z_scores):\n",
    "    #First we find a threshold to use:\n",
    "    print(f'Trying out threshold values for {vidname}:')\n",
    "    plt.figure(figsize=[30,10])\n",
    "    plt.plot(frame_val[0],z_scores)\n",
    "    thr_values = [-2,-3,-4,-5]\n",
    "    thr_count_pairs = []\n",
    "    for threshold in range(len(thr_values)):\n",
    "        suspects_bool = z_scores < thr_values[threshold]\n",
    "        suspects = frame_val[0][suspects_bool]\n",
    "        #print(f'for a threshold of {thr_values[threshold]} - there are {len(suspects)} suspected frames')\n",
    "        thr_count_pairs.append([thr_values[threshold],len(suspects)])\n",
    "    threshold_to_use = float(input(f'For a threshold of {thr_count_pairs[0][0]} there are {thr_count_pairs[0][1]} frames\\n'\n",
    "                                   f'For a threshold of {thr_count_pairs[1][0]} there are {thr_count_pairs[1][1]} frames\\n'\n",
    "                                   f'For a threshold of {thr_count_pairs[2][0]} there are {thr_count_pairs[2][1]} frames\\n'\n",
    "                                   f'For a threshold of {thr_count_pairs[3][0]} there are {thr_count_pairs[3][1]} frames\\n'\n",
    "                                   f'Enter threshold to use:'))\n",
    "    sus_bool = z_scores < threshold_to_use\n",
    "    plt.axhline(threshold_to_use, linewidth=3, color='r')\n",
    "    plt.title(f'{vidname}, threshold= {threshold_to_use}', color='w',fontsize=40 )\n",
    "    return frame_val[0][sus_bool] , threshold_to_use"
   ],
   "metadata": {
    "collapsed": false,
    "pycharm": {
     "name": "#%%\n"
    }
   }
  },
  {
   "cell_type": "code",
   "execution_count": 6,
   "outputs": [],
   "source": [
    "#I need a buffed up suspect list - this is the function definition\n",
    "def suspect_list_buffer(suspect_list,vidnames,frame_val_list,buff_amount):\n",
    "    buffed_list = []\n",
    "    for vid in range(len(vidnames)):\n",
    "        buff = []\n",
    "        for suspect in suspect_list[vid]:\n",
    "            if int(suspect-buff_amount) > 0 & int(suspect+buff_amount)< len(frame_val_list[vid][0]):\n",
    "                for i in itr.islice(frame_val_list[vid][0], int(suspect-buff_amount), int(suspect+buff_amount)):\n",
    "                    if i not in buff:\n",
    "                        buff.append(i)\n",
    "        buffed_list.append(buff)\n",
    "    buffed_array = np.array(buffed_list)\n",
    "    return buffed_array"
   ],
   "metadata": {
    "collapsed": false,
    "pycharm": {
     "name": "#%%\n"
    }
   }
  },
  {
   "cell_type": "code",
   "execution_count": 4,
   "outputs": [
    {
     "name": "stdout",
     "output_type": "stream",
     "text": [
      "['AzulaTrial5_30_12L', 'AzulaTrial5_30_12']\n"
     ]
    }
   ],
   "source": [
    "#list videos for analysis and produce vidnames\n",
    "vid_paths = [\n",
    "    r'D:\\AzulaTrials_30_12_2020\\Trial3_VisualStim_Landscapes\\Trial_3_L\\AzulaTrial5_30_12L.mp4',\n",
    "    r'D:\\AzulaTrials_30_12_2020\\Trial3_VisualStim_Landscapes\\Trial_3_R\\AzulaTrial5_30_12.mp4'\n",
    "            ]\n",
    "vidnames = []\n",
    "for vid in vid_paths:\n",
    "    vidname = vid.split(sep=\"\\\\\") ; vidname = vidname[len(vidname)-1]; vidname=vidname.split(sep='.') ; vidname=vidname[0]\n",
    "    vidnames.append(vidname)\n",
    "print(vidnames)"
   ],
   "metadata": {
    "collapsed": false,
    "pycharm": {
     "name": "#%% Eye Tracking Videos\n"
    }
   }
  },
  {
   "cell_type": "code",
   "execution_count": 5,
   "outputs": [
    {
     "name": "stdout",
     "output_type": "stream",
     "text": [
      "working on video D:\\AzulaTrials_30_12_2020\\Trial3_VisualStim_Landscapes\\Trial_3_L\\AzulaTrial5_30_12L.mp4\n",
      "Frame number 3951 of 55882\r"
     ]
    },
    {
     "ename": "KeyboardInterrupt",
     "evalue": "",
     "output_type": "error",
     "traceback": [
      "\u001B[1;31m---------------------------------------------------------------------------\u001B[0m",
      "\u001B[1;31mKeyboardInterrupt\u001B[0m                         Traceback (most recent call last)",
      "\u001B[1;32m<ipython-input-5-5286dd6e39dd>\u001B[0m in \u001B[0;36m<module>\u001B[1;34m\u001B[0m\n\u001B[0;32m      2\u001B[0m \u001B[1;32mfor\u001B[0m \u001B[0mvid\u001B[0m \u001B[1;32min\u001B[0m \u001B[0mvid_paths\u001B[0m\u001B[1;33m:\u001B[0m\u001B[1;33m\u001B[0m\u001B[1;33m\u001B[0m\u001B[0m\n\u001B[0;32m      3\u001B[0m     \u001B[0mprint\u001B[0m\u001B[1;33m(\u001B[0m\u001B[1;34mf'working on video {vid}'\u001B[0m\u001B[1;33m)\u001B[0m\u001B[1;33m\u001B[0m\u001B[1;33m\u001B[0m\u001B[0m\n\u001B[1;32m----> 4\u001B[1;33m     \u001B[0mframe_val\u001B[0m \u001B[1;33m=\u001B[0m \u001B[0muf\u001B[0m\u001B[1;33m.\u001B[0m\u001B[0marena_video_initial_thr\u001B[0m\u001B[1;33m(\u001B[0m\u001B[0mvid\u001B[0m\u001B[1;33m,\u001B[0m \u001B[1;36m30\u001B[0m\u001B[1;33m,\u001B[0m \u001B[0mshow_frames\u001B[0m\u001B[1;33m=\u001B[0m\u001B[1;32mTrue\u001B[0m\u001B[1;33m)\u001B[0m\u001B[1;33m\u001B[0m\u001B[1;33m\u001B[0m\u001B[0m\n\u001B[0m\u001B[0;32m      5\u001B[0m     \u001B[0mframe_val_list\u001B[0m\u001B[1;33m.\u001B[0m\u001B[0mappend\u001B[0m\u001B[1;33m(\u001B[0m\u001B[0mframe_val\u001B[0m\u001B[1;33m)\u001B[0m\u001B[1;33m\u001B[0m\u001B[1;33m\u001B[0m\u001B[0m\n\u001B[0;32m      6\u001B[0m \u001B[0mprint\u001B[0m\u001B[1;33m(\u001B[0m\u001B[1;34mf'done, frame_val_list contains {len(frame_val_list)} objects'\u001B[0m\u001B[1;33m,\u001B[0m\u001B[0mflush\u001B[0m\u001B[1;33m=\u001B[0m\u001B[1;32mTrue\u001B[0m\u001B[1;33m)\u001B[0m\u001B[1;33m\u001B[0m\u001B[1;33m\u001B[0m\u001B[0m\n",
      "\u001B[1;32m~\\PycharmProjects\\pythonProject3\\UtilityFunctions.py\u001B[0m in \u001B[0;36marena_video_initial_thr\u001B[1;34m(vid_path, threshold_value, show_frames)\u001B[0m\n\u001B[0;32m     27\u001B[0m             \u001B[1;32mbreak\u001B[0m\u001B[1;33m\u001B[0m\u001B[1;33m\u001B[0m\u001B[0m\n\u001B[0;32m     28\u001B[0m         \u001B[0mgrey\u001B[0m \u001B[1;33m=\u001B[0m \u001B[0mcv2\u001B[0m\u001B[1;33m.\u001B[0m\u001B[0mcvtColor\u001B[0m\u001B[1;33m(\u001B[0m\u001B[0mframe\u001B[0m\u001B[1;33m,\u001B[0m \u001B[0mcv2\u001B[0m\u001B[1;33m.\u001B[0m\u001B[0mCOLOR_BGR2GRAY\u001B[0m\u001B[1;33m)\u001B[0m\u001B[1;33m\u001B[0m\u001B[1;33m\u001B[0m\u001B[0m\n\u001B[1;32m---> 29\u001B[1;33m         \u001B[0mgrey\u001B[0m\u001B[1;33m[\u001B[0m\u001B[0mgrey\u001B[0m \u001B[1;33m<\u001B[0m \u001B[0mthreshold_value\u001B[0m\u001B[1;33m]\u001B[0m \u001B[1;33m=\u001B[0m \u001B[1;36m0\u001B[0m\u001B[1;33m\u001B[0m\u001B[1;33m\u001B[0m\u001B[0m\n\u001B[0m\u001B[0;32m     30\u001B[0m         \u001B[0mmean_values\u001B[0m\u001B[1;33m.\u001B[0m\u001B[0mappend\u001B[0m\u001B[1;33m(\u001B[0m\u001B[0mnp\u001B[0m\u001B[1;33m.\u001B[0m\u001B[0mmean\u001B[0m\u001B[1;33m(\u001B[0m\u001B[0mgrey\u001B[0m\u001B[1;33m)\u001B[0m\u001B[1;33m)\u001B[0m\u001B[1;33m\u001B[0m\u001B[1;33m\u001B[0m\u001B[0m\n\u001B[0;32m     31\u001B[0m         \u001B[0mindexes\u001B[0m\u001B[1;33m.\u001B[0m\u001B[0mappend\u001B[0m\u001B[1;33m(\u001B[0m\u001B[0mi\u001B[0m\u001B[1;33m)\u001B[0m\u001B[1;33m\u001B[0m\u001B[1;33m\u001B[0m\u001B[0m\n",
      "\u001B[1;31mKeyboardInterrupt\u001B[0m: "
     ]
    }
   ],
   "source": [
    "frame_val_list = []\n",
    "for vid in vid_paths:\n",
    "    print(f'working on video {vid}')\n",
    "    frame_val = uf.arena_video_initial_thr(vid, 30, show_frames=True)\n",
    "    frame_val_list.append(frame_val)\n",
    "print(f'done, frame_val_list contains {len(frame_val_list)} objects',flush=True)\n"
   ],
   "metadata": {
    "collapsed": false,
    "pycharm": {
     "name": "#%% This one produces frame_val_list\n"
    }
   }
  },
  {
   "cell_type": "code",
   "execution_count": 9,
   "outputs": [],
   "source": [
    "#produce Z and MAD values of the videos\n",
    "z_list = []\n",
    "mad_list = []\n",
    "for vid in frame_val_list:\n",
    "    mad = stats.median_abs_deviation(vid[1])\n",
    "    mad_scores = np.array(vid[1])\n",
    "    mad_scores= np.sqrt((mad_scores - mad)**2)\n",
    "    zscores = stats.zscore(vid[1])\n",
    "    z_list.append(zscores)\n",
    "    mad_list.append(mad_scores)"
   ],
   "metadata": {
    "collapsed": false,
    "pycharm": {
     "name": "#%%\n"
    }
   }
  },
  {
   "cell_type": "code",
   "execution_count": 3,
   "outputs": [
    {
     "ename": "NameError",
     "evalue": "name 'vidnames' is not defined",
     "output_type": "error",
     "traceback": [
      "\u001B[1;31m---------------------------------------------------------------------------\u001B[0m",
      "\u001B[1;31mNameError\u001B[0m                                 Traceback (most recent call last)",
      "\u001B[1;32m<ipython-input-3-797c2c7c4741>\u001B[0m in \u001B[0;36m<module>\u001B[1;34m\u001B[0m\n\u001B[0;32m      2\u001B[0m \u001B[0msuspect_list\u001B[0m \u001B[1;33m=\u001B[0m \u001B[1;33m[\u001B[0m\u001B[1;33m]\u001B[0m\u001B[1;33m\u001B[0m\u001B[1;33m\u001B[0m\u001B[0m\n\u001B[0;32m      3\u001B[0m \u001B[0mthreshold_list\u001B[0m \u001B[1;33m=\u001B[0m \u001B[1;33m[\u001B[0m\u001B[1;33m]\u001B[0m\u001B[1;33m\u001B[0m\u001B[1;33m\u001B[0m\u001B[0m\n\u001B[1;32m----> 4\u001B[1;33m \u001B[1;32mfor\u001B[0m \u001B[0mvid\u001B[0m \u001B[1;32min\u001B[0m \u001B[0mrange\u001B[0m\u001B[1;33m(\u001B[0m\u001B[0mlen\u001B[0m\u001B[1;33m(\u001B[0m\u001B[0mvidnames\u001B[0m\u001B[1;33m)\u001B[0m\u001B[1;33m)\u001B[0m\u001B[1;33m:\u001B[0m\u001B[1;33m\u001B[0m\u001B[1;33m\u001B[0m\u001B[0m\n\u001B[0m\u001B[0;32m      5\u001B[0m     \u001B[0msuspects\u001B[0m \u001B[1;33m,\u001B[0m \u001B[0mthr_for_list\u001B[0m \u001B[1;33m=\u001B[0m \u001B[0mfind_suspected_frames\u001B[0m\u001B[1;33m(\u001B[0m\u001B[0mvidnames\u001B[0m\u001B[1;33m[\u001B[0m\u001B[0mvid\u001B[0m\u001B[1;33m]\u001B[0m\u001B[1;33m,\u001B[0m\u001B[0mframe_val_list\u001B[0m\u001B[1;33m[\u001B[0m\u001B[0mvid\u001B[0m\u001B[1;33m]\u001B[0m\u001B[1;33m,\u001B[0m\u001B[0mz_list\u001B[0m\u001B[1;33m[\u001B[0m\u001B[0mvid\u001B[0m\u001B[1;33m]\u001B[0m\u001B[1;33m)\u001B[0m\u001B[1;33m\u001B[0m\u001B[1;33m\u001B[0m\u001B[0m\n\u001B[0;32m      6\u001B[0m     \u001B[0msuspect_list\u001B[0m\u001B[1;33m.\u001B[0m\u001B[0mappend\u001B[0m\u001B[1;33m(\u001B[0m\u001B[0msuspects\u001B[0m\u001B[1;33m)\u001B[0m\u001B[1;33m\u001B[0m\u001B[1;33m\u001B[0m\u001B[0m\n",
      "\u001B[1;31mNameError\u001B[0m: name 'vidnames' is not defined"
     ]
    }
   ],
   "source": [
    "# Here we find suspected frames (Based on Z scores)\n",
    "suspect_list = []\n",
    "threshold_list = []\n",
    "for vid in range(len(vidnames)):\n",
    "    suspects , thr_for_list = find_suspected_frames(vidnames[vid],frame_val_list[vid],z_list[vid])\n",
    "    suspect_list.append(suspects)\n",
    "    threshold_list.append(thr_for_list)"
   ],
   "metadata": {
    "collapsed": false,
    "pycharm": {
     "name": "#%%\n"
    }
   }
  },
  {
   "cell_type": "code",
   "execution_count": 11,
   "outputs": [
    {
     "name": "stdout",
     "output_type": "stream",
     "text": [
      "259\n",
      "248\n"
     ]
    }
   ],
   "source": [
    "print(len(suspect_list[0]))\n",
    "print(len(suspect_list[1]))"
   ],
   "metadata": {
    "collapsed": false,
    "pycharm": {
     "name": "#%%\n"
    }
   }
  },
  {
   "cell_type": "code",
   "execution_count": 12,
   "outputs": [
    {
     "name": "stdout",
     "output_type": "stream",
     "text": [
      "video AzulaTrial5_30_12L has 39 frames to go through manually\n",
      "video AzulaTrial5_30_12 has 37 frames to go through manually\n"
     ]
    }
   ],
   "source": [
    "cluster_list = []\n",
    "for vid in range(len(vidnames)):\n",
    "    clusters = compress_frames_corrected(suspect_list[vid],0)\n",
    "    cluster_list.append(clusters)\n",
    "    print(f'video {vidnames[vid]} has {len(clusters)} frames to go through manually')\n"
   ],
   "metadata": {
    "collapsed": false,
    "pycharm": {
     "name": "#%% clustering\n"
    }
   }
  },
  {
   "cell_type": "code",
   "execution_count": 13,
   "outputs": [],
   "source": [
    "validated_off_list = []\n",
    "for vid in range(len(vidnames)):\n",
    "    validated_off_list.append(led_off_frame_validation(vid_paths[vid], cluster_list[vid]))"
   ],
   "metadata": {
    "collapsed": false,
    "pycharm": {
     "name": "#%% Manual Validation step\n"
    }
   }
  },
  {
   "cell_type": "code",
   "execution_count": 14,
   "outputs": [
    {
     "data": {
      "text/plain": "{243.0,\n 327.0,\n 441.0,\n 442.0,\n 459.0,\n 460.0,\n 2191.0,\n 2198.0,\n 5561.0,\n 5569.0,\n 8900.0,\n 8908.0,\n 12220.0,\n 12228.0,\n 15745.0,\n 15753.0,\n 19230.0,\n 19239.0,\n 22457.0,\n 22465.0,\n 25876.0,\n 25883.0,\n 29220.0,\n 29228.0,\n 32683.0,\n 32691.0,\n 36122.0,\n 36130.0,\n 39455.0,\n 39463.0,\n 42900.0,\n 42907.0,\n 46187.0,\n 46195.0,\n 49655.0,\n 49662.0,\n 52842.0,\n 52848.0,\n 52850.0}"
     },
     "execution_count": 14,
     "metadata": {},
     "output_type": "execute_result"
    }
   ],
   "source": [
    "mutual_validated = set(validated_off_list[0])\n",
    "for l in validated_off_list[1:-1]:\n",
    "    mutual_validated = mutual_validated & set(l)\n",
    "mutual_validated"
   ],
   "metadata": {
    "collapsed": false,
    "pycharm": {
     "name": "#%% mutual validation\n"
    }
   }
  },
  {
   "cell_type": "code",
   "execution_count": 15,
   "outputs": [
    {
     "data": {
      "text/plain": "<Figure size 2160x720 with 1 Axes>",
      "image/png": "[encoded data removed]"
     },
     "metadata": {},
     "output_type": "display_data"
    },
    {
     "data": {
      "text/plain": "<Figure size 2160x720 with 1 Axes>",
      "image/png": "[encoded data removed]"
     },
     "metadata": {},
     "output_type": "display_data"
    }
   ],
   "source": [
    "for vid in range(len(vidnames)):\n",
    "    plt.figure(figsize=[30,10])\n",
    "    plt.plot(frame_val_list[vid][0],frame_val_list[vid][1])\n",
    "    for i in list(validated_off_list[vid]):\n",
    "        plt.axvline(i, linewidth=1, color='r', ymin=0.8)\n",
    "    for i in list(mutual_validated):\n",
    "        plt.axvline(i,linewidth=2,color='g',ymax=0.2)"
   ],
   "metadata": {
    "collapsed": false,
    "pycharm": {
     "name": "#%% Plot the suspected frames of each vid together with the mutually validated ones\n"
    }
   }
  },
  {
   "cell_type": "code",
   "execution_count": 16,
   "outputs": [],
   "source": [
    "    validated_dict = {}\n",
    "    for vid in range(len(vidnames)):\n",
    "        validated_dict[vidnames[vid]] = pd.Series(validated_off_list[vid],dtype=int)\n",
    "    data_export = pd.DataFrame(validated_dict)\n",
    "    data_export.to_csv(r'D:\\AzulaTrials_30_12_2020\\Trial3_VisualStim_Landscapes\\eye_tracking_led_off_frames.csv')"
   ],
   "metadata": {
    "collapsed": false,
    "pycharm": {
     "name": "#%% export to a dataframe\n"
    }
   }
  },
  {
   "cell_type": "code",
   "execution_count": 17,
   "outputs": [
    {
     "data": {
      "text/plain": "    AzulaTrial5_30_12L  AzulaTrial5_30_12\n0                  243              242.0\n1                  327              327.0\n2                  441              440.0\n3                  442              441.0\n4                  459              459.0\n5                  460              460.0\n6                 2191             2227.0\n7                 2198             2235.0\n8                 5561             5844.0\n9                 5569             5852.0\n10                8900             9460.0\n11                8908             9468.0\n12               12220            13038.0\n13               12228            13046.0\n14               15745            16564.0\n15               15753            16572.0\n16               19230            23531.0\n17               19239            23539.0\n18               22457            27147.0\n19               22465            27155.0\n20               25876            30764.0\n21               25883            30772.0\n22               29220            34285.0\n23               29228            34292.0\n24               32683            37901.0\n25               32691            37909.0\n26               36122            41297.0\n27               36130            41305.0\n28               39455            44824.0\n29               39463            44832.0\n30               42900            48441.0\n31               42907            48449.0\n32               46187            52004.0\n33               46195            52012.0\n34               49655            55537.0\n35               49662            55542.0\n36               52842            55545.0\n37               52848                NaN\n38               52850                NaN",
      "text/html": "<div>\n<style scoped>\n    .dataframe tbody tr th:only-of-type {\n        vertical-align: middle;\n    }\n\n    .dataframe tbody tr th {\n        vertical-align: top;\n    }\n\n    .dataframe thead th {\n        text-align: right;\n    }\n</style>\n<table border=\"1\" class=\"dataframe\">\n  <thead>\n    <tr style=\"text-align: right;\">\n      <th></th>\n      <th>AzulaTrial5_30_12L</th>\n      <th>AzulaTrial5_30_12</th>\n    </tr>\n  </thead>\n  <tbody>\n    <tr>\n      <th>0</th>\n      <td>243</td>\n      <td>242.0</td>\n    </tr>\n    <tr>\n      <th>1</th>\n      <td>327</td>\n      <td>327.0</td>\n    </tr>\n    <tr>\n      <th>2</th>\n      <td>441</td>\n      <td>440.0</td>\n    </tr>\n    <tr>\n      <th>3</th>\n      <td>442</td>\n      <td>441.0</td>\n    </tr>\n    <tr>\n      <th>4</th>\n      <td>459</td>\n      <td>459.0</td>\n    </tr>\n    <tr>\n      <th>5</th>\n      <td>460</td>\n      <td>460.0</td>\n    </tr>\n    <tr>\n      <th>6</th>\n      <td>2191</td>\n      <td>2227.0</td>\n    </tr>\n    <tr>\n      <th>7</th>\n      <td>2198</td>\n      <td>2235.0</td>\n    </tr>\n    <tr>\n      <th>8</th>\n      <td>5561</td>\n      <td>5844.0</td>\n    </tr>\n    <tr>\n      <th>9</th>\n      <td>5569</td>\n      <td>5852.0</td>\n    </tr>\n    <tr>\n      <th>10</th>\n      <td>8900</td>\n      <td>9460.0</td>\n    </tr>\n    <tr>\n      <th>11</th>\n      <td>8908</td>\n      <td>9468.0</td>\n    </tr>\n    <tr>\n      <th>12</th>\n      <td>12220</td>\n      <td>13038.0</td>\n    </tr>\n    <tr>\n      <th>13</th>\n      <td>12228</td>\n      <td>13046.0</td>\n    </tr>\n    <tr>\n      <th>14</th>\n      <td>15745</td>\n      <td>16564.0</td>\n    </tr>\n    <tr>\n      <th>15</th>\n      <td>15753</td>\n      <td>16572.0</td>\n    </tr>\n    <tr>\n      <th>16</th>\n      <td>19230</td>\n      <td>23531.0</td>\n    </tr>\n    <tr>\n      <th>17</th>\n      <td>19239</td>\n      <td>23539.0</td>\n    </tr>\n    <tr>\n      <th>18</th>\n      <td>22457</td>\n      <td>27147.0</td>\n    </tr>\n    <tr>\n      <th>19</th>\n      <td>22465</td>\n      <td>27155.0</td>\n    </tr>\n    <tr>\n      <th>20</th>\n      <td>25876</td>\n      <td>30764.0</td>\n    </tr>\n    <tr>\n      <th>21</th>\n      <td>25883</td>\n      <td>30772.0</td>\n    </tr>\n    <tr>\n      <th>22</th>\n      <td>29220</td>\n      <td>34285.0</td>\n    </tr>\n    <tr>\n      <th>23</th>\n      <td>29228</td>\n      <td>34292.0</td>\n    </tr>\n    <tr>\n      <th>24</th>\n      <td>32683</td>\n      <td>37901.0</td>\n    </tr>\n    <tr>\n      <th>25</th>\n      <td>32691</td>\n      <td>37909.0</td>\n    </tr>\n    <tr>\n      <th>26</th>\n      <td>36122</td>\n      <td>41297.0</td>\n    </tr>\n    <tr>\n      <th>27</th>\n      <td>36130</td>\n      <td>41305.0</td>\n    </tr>\n    <tr>\n      <th>28</th>\n      <td>39455</td>\n      <td>44824.0</td>\n    </tr>\n    <tr>\n      <th>29</th>\n      <td>39463</td>\n      <td>44832.0</td>\n    </tr>\n    <tr>\n      <th>30</th>\n      <td>42900</td>\n      <td>48441.0</td>\n    </tr>\n    <tr>\n      <th>31</th>\n      <td>42907</td>\n      <td>48449.0</td>\n    </tr>\n    <tr>\n      <th>32</th>\n      <td>46187</td>\n      <td>52004.0</td>\n    </tr>\n    <tr>\n      <th>33</th>\n      <td>46195</td>\n      <td>52012.0</td>\n    </tr>\n    <tr>\n      <th>34</th>\n      <td>49655</td>\n      <td>55537.0</td>\n    </tr>\n    <tr>\n      <th>35</th>\n      <td>49662</td>\n      <td>55542.0</td>\n    </tr>\n    <tr>\n      <th>36</th>\n      <td>52842</td>\n      <td>55545.0</td>\n    </tr>\n    <tr>\n      <th>37</th>\n      <td>52848</td>\n      <td>NaN</td>\n    </tr>\n    <tr>\n      <th>38</th>\n      <td>52850</td>\n      <td>NaN</td>\n    </tr>\n  </tbody>\n</table>\n</div>"
     },
     "execution_count": 17,
     "metadata": {},
     "output_type": "execute_result"
    }
   ],
   "source": [
    "data_export\n"
   ],
   "metadata": {
    "collapsed": false,
    "pycharm": {
     "name": "#%%\n"
    }
   }
  }
 ],
 "metadata": {
  "kernelspec": {
   "display_name": "Python 3",
   "language": "python",
   "name": "python3"
  },
  "language_info": {
   "codemirror_mode": {
    "name": "ipython",
    "version": 2
   },
   "file_extension": ".py",
   "mimetype": "text/x-python",
   "name": "python",
   "nbconvert_exporter": "python",
   "pygments_lexer": "ipython2",
   "version": "2.7.6"
  }
 },
 "nbformat": 4,
 "nbformat_minor": 0
}