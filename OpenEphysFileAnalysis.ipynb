{
 "cells": [
  {
   "cell_type": "code",
   "execution_count": 2,
   "metadata": {
    "collapsed": true,
    "pycharm": {
     "name": "#%% Imports\n"
    }
   },
   "outputs": [],
   "source": [
    "import pandas as pd\n",
    "import numpy as np\n"
   ]
  },
  {
   "cell_type": "code",
   "execution_count": 35,
   "outputs": [],
   "source": [
    "def open_ephys_events_parser(open_ephys_csv_path, channel_names, export_path=None):\n",
    "    \"\"\"\n",
    "    :param open_ephys_csv_path: The path to an open ephys analysis tools exported csv (using TrialReporter.ipynb)\n",
    "    :param channel_names: a dictionary of the form -\n",
    "                    { 1 : 'channel name' (L_eye_camera)\n",
    "                      2 : 'channel name' (Arena_TTL)\n",
    "                      etc..\n",
    "                    }\n",
    "    :param export_path: default None, if a path is specified a csv file will be saved\n",
    "    :returns open_ephys_events: a pandas DataFrame object where each column has the ON events of one channel and has a title from channel_names\n",
    "    \"\"\"\n",
    "\n",
    "    # Infer the active channels:\n",
    "    df = pd.read_csv(open_ephys_csv_path)\n",
    "    channels = df['channel'].to_numpy(copy=True)\n",
    "    channels = np.unique(channels)\n",
    "    df_onstate = df[df['state']==1] #cut the df to represent only rising edges\n",
    "    list = []\n",
    "    for chan in channels: #extract a pandas series of the ON stats timestamps for each channel\n",
    "        Sname = channel_names[chan]\n",
    "        s = pd.Series(df_onstate['timestamp'][df_onstate['channel'] == chan], name=Sname)\n",
    "        list.append(s)\n",
    "    open_ephys_events = pd.concat(list, axis=1)\n",
    "    if export_path is not None :\n",
    "        open_ephys_events.to_csv(export_path)\n",
    "    return open_ephys_events"
   ],
   "metadata": {
    "collapsed": false,
    "pycharm": {
     "name": "#%% Import the relevent file\n"
    }
   }
  },
  {
   "cell_type": "code",
   "execution_count": 34,
   "outputs": [
    {
     "data": {
      "text/plain": "        Unnamed: 0  channel    timestamp  nodeId  state\n1                1        6     4.181233     100      1\n3                3        6     4.198267     100      1\n5                5        6     4.215267     100      1\n7                7        6     4.232300     100      1\n9                9        6     4.249333     100      1\n...            ...      ...          ...     ...    ...\n356859      356859        6  1069.493530     100      1\n356861      356861        6  1069.510498     100      1\n356863      356863        6  1069.527588     100      1\n356865      356865        6  1069.544556     100      1\n356867      356867        6  1069.561646     100      1\n\n[178434 rows x 5 columns]",
      "text/html": "<div>\n<style scoped>\n    .dataframe tbody tr th:only-of-type {\n        vertical-align: middle;\n    }\n\n    .dataframe tbody tr th {\n        vertical-align: top;\n    }\n\n    .dataframe thead th {\n        text-align: right;\n    }\n</style>\n<table border=\"1\" class=\"dataframe\">\n  <thead>\n    <tr style=\"text-align: right;\">\n      <th></th>\n      <th>Unnamed: 0</th>\n      <th>channel</th>\n      <th>timestamp</th>\n      <th>nodeId</th>\n      <th>state</th>\n    </tr>\n  </thead>\n  <tbody>\n    <tr>\n      <th>1</th>\n      <td>1</td>\n      <td>6</td>\n      <td>4.181233</td>\n      <td>100</td>\n      <td>1</td>\n    </tr>\n    <tr>\n      <th>3</th>\n      <td>3</td>\n      <td>6</td>\n      <td>4.198267</td>\n      <td>100</td>\n      <td>1</td>\n    </tr>\n    <tr>\n      <th>5</th>\n      <td>5</td>\n      <td>6</td>\n      <td>4.215267</td>\n      <td>100</td>\n      <td>1</td>\n    </tr>\n    <tr>\n      <th>7</th>\n      <td>7</td>\n      <td>6</td>\n      <td>4.232300</td>\n      <td>100</td>\n      <td>1</td>\n    </tr>\n    <tr>\n      <th>9</th>\n      <td>9</td>\n      <td>6</td>\n      <td>4.249333</td>\n      <td>100</td>\n      <td>1</td>\n    </tr>\n    <tr>\n      <th>...</th>\n      <td>...</td>\n      <td>...</td>\n      <td>...</td>\n      <td>...</td>\n      <td>...</td>\n    </tr>\n    <tr>\n      <th>356859</th>\n      <td>356859</td>\n      <td>6</td>\n      <td>1069.493530</td>\n      <td>100</td>\n      <td>1</td>\n    </tr>\n    <tr>\n      <th>356861</th>\n      <td>356861</td>\n      <td>6</td>\n      <td>1069.510498</td>\n      <td>100</td>\n      <td>1</td>\n    </tr>\n    <tr>\n      <th>356863</th>\n      <td>356863</td>\n      <td>6</td>\n      <td>1069.527588</td>\n      <td>100</td>\n      <td>1</td>\n    </tr>\n    <tr>\n      <th>356865</th>\n      <td>356865</td>\n      <td>6</td>\n      <td>1069.544556</td>\n      <td>100</td>\n      <td>1</td>\n    </tr>\n    <tr>\n      <th>356867</th>\n      <td>356867</td>\n      <td>6</td>\n      <td>1069.561646</td>\n      <td>100</td>\n      <td>1</td>\n    </tr>\n  </tbody>\n</table>\n<p>178434 rows × 5 columns</p>\n</div>"
     },
     "execution_count": 34,
     "metadata": {},
     "output_type": "execute_result"
    }
   ],
   "source": [
    "open_ephys_csv_path = r'D:\\AzulaTrials_30_12_2020\\Trial3_VisualStim_Landscapes\\OpenEphysFiles\\events.csv'\n",
    "df = pd.read_csv(open_ephys_csv_path)\n",
    "a = df['channel'].to_numpy()\n",
    "channels = np.unique(a)\n",
    "onstate = df[df['state'] == 1]\n",
    "onstate"
   ],
   "metadata": {
    "collapsed": false,
    "pycharm": {
     "name": "#%%\n"
    }
   }
  },
  {
   "cell_type": "code",
   "execution_count": 38,
   "outputs": [],
   "source": [
    "open_ephys_csv_path = r'D:\\AzulaTrials_30_12_2020\\Trial3_VisualStim_Landscapes\\OpenEphysFiles\\events.csv'\n",
    "export_path = r'D:\\AzulaTrials_30_12_2020\\Trial3_VisualStim_Landscapes\\OpenEphysFiles\\channel_events.csv'\n",
    "channeldict = {\n",
    "    5 : 'L_eye_TTL',\n",
    "    6 : 'Arena_TTL',\n",
    "    7 : 'Logical ON/OFF',\n",
    "    8 : 'R_eye_TTL'\n",
    "}\n",
    "df = open_ephys_events_parser(open_ephys_csv_path, channeldict, export_path)"
   ],
   "metadata": {
    "collapsed": false,
    "pycharm": {
     "name": "#%%\n"
    }
   }
  },
  {
   "cell_type": "code",
   "execution_count": 37,
   "outputs": [
    {
     "data": {
      "text/plain": "        L_eye_TTL    Arena_TTL  Logical ON/OFF  R_eye_TTL\n1             NaN     4.181233             NaN        NaN\n3             NaN     4.198267             NaN        NaN\n5             NaN     4.215267             NaN        NaN\n7             NaN     4.232300             NaN        NaN\n9             NaN     4.249333             NaN        NaN\n...           ...          ...             ...        ...\n356859        NaN  1069.493530             NaN        NaN\n356861        NaN  1069.510498             NaN        NaN\n356863        NaN  1069.527588             NaN        NaN\n356865        NaN  1069.544556             NaN        NaN\n356867        NaN  1069.561646             NaN        NaN\n\n[178434 rows x 4 columns]",
      "text/html": "<div>\n<style scoped>\n    .dataframe tbody tr th:only-of-type {\n        vertical-align: middle;\n    }\n\n    .dataframe tbody tr th {\n        vertical-align: top;\n    }\n\n    .dataframe thead th {\n        text-align: right;\n    }\n</style>\n<table border=\"1\" class=\"dataframe\">\n  <thead>\n    <tr style=\"text-align: right;\">\n      <th></th>\n      <th>L_eye_TTL</th>\n      <th>Arena_TTL</th>\n      <th>Logical ON/OFF</th>\n      <th>R_eye_TTL</th>\n    </tr>\n  </thead>\n  <tbody>\n    <tr>\n      <th>1</th>\n      <td>NaN</td>\n      <td>4.181233</td>\n      <td>NaN</td>\n      <td>NaN</td>\n    </tr>\n    <tr>\n      <th>3</th>\n      <td>NaN</td>\n      <td>4.198267</td>\n      <td>NaN</td>\n      <td>NaN</td>\n    </tr>\n    <tr>\n      <th>5</th>\n      <td>NaN</td>\n      <td>4.215267</td>\n      <td>NaN</td>\n      <td>NaN</td>\n    </tr>\n    <tr>\n      <th>7</th>\n      <td>NaN</td>\n      <td>4.232300</td>\n      <td>NaN</td>\n      <td>NaN</td>\n    </tr>\n    <tr>\n      <th>9</th>\n      <td>NaN</td>\n      <td>4.249333</td>\n      <td>NaN</td>\n      <td>NaN</td>\n    </tr>\n    <tr>\n      <th>...</th>\n      <td>...</td>\n      <td>...</td>\n      <td>...</td>\n      <td>...</td>\n    </tr>\n    <tr>\n      <th>356859</th>\n      <td>NaN</td>\n      <td>1069.493530</td>\n      <td>NaN</td>\n      <td>NaN</td>\n    </tr>\n    <tr>\n      <th>356861</th>\n      <td>NaN</td>\n      <td>1069.510498</td>\n      <td>NaN</td>\n      <td>NaN</td>\n    </tr>\n    <tr>\n      <th>356863</th>\n      <td>NaN</td>\n      <td>1069.527588</td>\n      <td>NaN</td>\n      <td>NaN</td>\n    </tr>\n    <tr>\n      <th>356865</th>\n      <td>NaN</td>\n      <td>1069.544556</td>\n      <td>NaN</td>\n      <td>NaN</td>\n    </tr>\n    <tr>\n      <th>356867</th>\n      <td>NaN</td>\n      <td>1069.561646</td>\n      <td>NaN</td>\n      <td>NaN</td>\n    </tr>\n  </tbody>\n</table>\n<p>178434 rows × 4 columns</p>\n</div>"
     },
     "execution_count": 37,
     "metadata": {},
     "output_type": "execute_result"
    }
   ],
   "source": [
    "df"
   ],
   "metadata": {
    "collapsed": false,
    "pycharm": {
     "name": "#%%\n"
    }
   }
  }
 ],
 "metadata": {
  "kernelspec": {
   "display_name": "Python 3",
   "language": "python",
   "name": "python3"
  },
  "language_info": {
   "codemirror_mode": {
    "name": "ipython",
    "version": 2
   },
   "file_extension": ".py",
   "mimetype": "text/x-python",
   "name": "python",
   "nbconvert_exporter": "python",
   "pygments_lexer": "ipython2",
   "version": "2.7.6"
  }
 },
 "nbformat": 4,
 "nbformat_minor": 0
}