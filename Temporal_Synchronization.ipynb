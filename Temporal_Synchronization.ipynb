{
 "cells": [
  {
   "cell_type": "code",
   "execution_count": 275,
   "metadata": {
    "collapsed": true,
    "pycharm": {
     "name": "#%% imports\n"
    }
   },
   "outputs": [],
   "source": [
    "import cv2\n",
    "import numpy as np\n",
    "import pandas as pd\n",
    "from matplotlib import pyplot as plt\n",
    "plt.style.use('ggplot')"
   ]
  },
  {
   "cell_type": "code",
   "execution_count": 64,
   "outputs": [],
   "source": [
    "channel_events = pd.read_csv(r'D:\\AzulaTrials_30_12_2020\\Trial3_VisualStim_Landscapes\\OpenEphysFiles\\channel_events.csv')\n",
    "block1_led_off_frames = pd.read_csv(r'D:\\AzulaTrials_30_12_2020\\NimrodTrial1_30_12_3_20201230T182307\\block1\\trial1\\videos\\validated_off_frames.csv')\n",
    "block2_led_off_frames = pd.read_csv(r'D:\\AzulaTrials_30_12_2020\\NimrodTrial1_30_12_3_20201230T182307\\block2\\trial1\\videos\\validated_off_frames.csv')\n",
    "eye_videos_led_off_frames = pd.read_csv(r'D:\\AzulaTrials_30_12_2020\\Trial3_VisualStim_Landscapes\\eye_tracking_led_off_frames.csv')\n",
    "\n",
    "# and this extra bit for block disambiguation\n",
    "\n",
    "block1_frames = pd.read_csv(r'D:\\AzulaTrials_30_12_2020\\NimrodTrial1_30_12_3_20201230T182307\\block1\\trial1\\videos\\timestamps\\19506455.csv')\n",
    "block2_frames =pd.read_csv(r'D:\\AzulaTrials_30_12_2020\\NimrodTrial1_30_12_3_20201230T182307\\block2\\trial1\\videos\\timestamps\\19506455.csv')"
   ],
   "metadata": {
    "collapsed": false,
    "pycharm": {
     "name": "#%% start with gathering the data\n"
    }
   }
  },
  {
   "cell_type": "code",
   "execution_count": 106,
   "outputs": [],
   "source": [
    "def get_frame_timeseries(df,channel):\n",
    "    index_range = range(0,len(df[channel][df[channel].notna()]))\n",
    "    timeseries = pd.Series(df[channel][df[channel].notna()])\n",
    "    timeseries = pd.Series(timeseries.values, index=index_range, name=channel)\n",
    "    return timeseries"
   ],
   "metadata": {
    "collapsed": false,
    "pycharm": {
     "name": "#%% Function definitions\n"
    }
   }
  },
  {
   "cell_type": "code",
   "execution_count": null,
   "outputs": [],
   "source": [
    "def get_frame_from_time(vid_timeseries, timestamp):\n",
    "    array = np.abs((vid_timeseries.to_numpy())-timestamp)\n",
    "    index_of_lowest_diff = np.argmin(array)\n",
    "    accuracy = abs(vid_timeseries[index_of_lowest_diff] - timestamp)\n",
    "    return index_of_lowest_diff, accuracy\n"
   ],
   "metadata": {
    "collapsed": false,
    "pycharm": {
     "name": "#%% create a translation between time and frame for each vid\n"
    }
   }
  },
  {
   "cell_type": "code",
   "execution_count": 112,
   "outputs": [
    {
     "data": {
      "text/plain": "[0          16.309200\n 1          16.320168\n 2          16.336666\n 3          16.355734\n 4          16.370068\n             ...     \n 58804    1010.219177\n 58805    1010.235718\n 58806    1010.257751\n 58807    1010.269226\n 58808    1010.285706\n Name: L_eye_TTL, Length: 58809, dtype: float64,\n 0           4.181233\n 1           4.198267\n 2           4.215267\n 3           4.232300\n 4           4.249333\n             ...     \n 62581    1069.493530\n 62582    1069.510498\n 62583    1069.527588\n 62584    1069.544556\n 62585    1069.561646\n Name: Arena_TTL, Length: 62586, dtype: float64,\n 0          16.307766\n 1          16.317467\n 2          16.334101\n 3          16.353167\n 4          16.367332\n             ...     \n 57021    1010.218689\n 57022    1010.234924\n 57023    1010.253845\n 57024    1010.268005\n 57025    1010.284668\n Name: R_eye_TTL, Length: 57026, dtype: float64]"
     },
     "execution_count": 112,
     "metadata": {},
     "output_type": "execute_result"
    }
   ],
   "source": [
    "ts_list = []\n",
    "for chan in list(channel_events.columns)[1:5]:\n",
    "    ts = get_frame_timeseries(channel_events,str(chan))\n",
    "    ts_list.append(ts)\n",
    "ts_list.pop(2)\n",
    "ts_list"
   ],
   "metadata": {
    "collapsed": false,
    "pycharm": {
     "name": "#%% get the timestamps for each frame of every video\n"
    }
   }
  },
  {
   "cell_type": "code",
   "execution_count": 214,
   "outputs": [
    {
     "name": "stdout",
     "output_type": "stream",
     "text": [
      "frame 58800 out of 58809\r"
     ]
    }
   ],
   "source": [
    "anchor_vid = ts_list[0].to_numpy()\n",
    "synchronized_TTLs = []\n",
    "synchronization_accuracy = []\n",
    "for frame in range(len(anchor_vid)):\n",
    "    time = anchor_vid[frame]\n",
    "    if frame % 50 == 0:\n",
    "        print(f'frame {frame} out of {len(anchor_vid)}',end='\\r', flush=True)\n",
    "    sync_frame = []\n",
    "    sync_accuracy = []\n",
    "    for vid in ts_list:\n",
    "        f , a = get_frame_from_time(vid,time)\n",
    "        sync_frame.append(f)\n",
    "        sync_accuracy.append(a)\n",
    "    synchronized_TTLs.append(sync_frame)\n",
    "    synchronization_accuracy.append(sync_accuracy)"
   ],
   "metadata": {
    "collapsed": false,
    "pycharm": {
     "name": "#%% Synchronize Videos from timestamp to timestamp using one video as the anchor\n"
    }
   }
  },
  {
   "cell_type": "code",
   "execution_count": 147,
   "outputs": [],
   "source": [
    "def frame_by_frame_video_viewer(vidpath, frames_of_interest):\n",
    "    cap = cv2.VideoCapture(vidpath)\n",
    "    breaker = 0\n",
    "    i = 0\n",
    "    while breaker == 0:\n",
    "        if i == len(frames_of_interest):\n",
    "            breaker = 1\n",
    "        if breaker == 1:\n",
    "            break\n",
    "        f = frames_of_interest[i]\n",
    "        cap.set(cv2.CAP_PROP_POS_FRAMES, f)\n",
    "        ret, frame = cap.read()\n",
    "        frame = cv2.putText(frame, f'frame number {str(f)}', (30, 100), 1, 1, (255, 255, 0), 3)\n",
    "        cv2.imshow('validation', frame)\n",
    "        key = []\n",
    "        while key not in [ord('q'), ord('k'), ord('s'), ord('b'), ord('z'), ord('x')]:\n",
    "            key = cv2.waitKey(0)\n",
    "            if key == ord('q'):\n",
    "                breaker = 1\n",
    "                break\n",
    "            elif key == ord('k'):\n",
    "                i += 1\n",
    "                break\n",
    "            elif key == ord('s'):\n",
    "                i+=1\n",
    "                break\n",
    "            elif key == ord('b'):\n",
    "                i = i - 1\n",
    "                break\n",
    "            elif key == ord('z'):\n",
    "                if i != 0:\n",
    "                    frames_of_interest [i] = frames_of_interest [i] - 1\n",
    "                break\n",
    "            elif key == ord('x'):\n",
    "                if i != len(frames_of_interest )-1:\n",
    "                    frames_of_interest [i] = frames_of_interest [i] + 1\n",
    "                break\n",
    "    cap.release()\n",
    "    cv2.destroyAllWindows()"
   ],
   "metadata": {
    "collapsed": false,
    "pycharm": {
     "name": "#%%\n"
    }
   }
  },
  {
   "cell_type": "code",
   "execution_count": 176,
   "outputs": [],
   "source": [
    "vidname = r'D:\\AzulaTrials_30_12_2020\\NimrodTrial1_30_12_3_20201230T182307\\block1\\trial1\\videos\\realtime_20201230T182309.mp4'\n",
    "inspection_list = list(range(2050,2150))\n",
    "frame_by_frame_video_viewer(vidname,inspection_list)"
   ],
   "metadata": {
    "collapsed": false,
    "pycharm": {
     "name": "#%% Visually Inspect segments of video (K=forward, B=back)\n"
    }
   }
  },
  {
   "cell_type": "code",
   "execution_count": 285,
   "outputs": [
    {
     "data": {
      "text/plain": "array([[    0,  1821,     0],\n       [    1,  1822,     1],\n       [    2,  1823,     2],\n       ...,\n       [58806, 60210, 57023],\n       [58807, 60211, 57024],\n       [58808, 60212, 57025]], dtype=int64)"
     },
     "execution_count": 285,
     "metadata": {},
     "output_type": "execute_result"
    }
   ],
   "source": [
    "frame_array = np.array(synchronized_TTLs)\n",
    "frame_array[:,1] = frame_array[:,1] + 1109 #\n",
    "frame_array[:]\n"
   ],
   "metadata": {
    "collapsed": false,
    "pycharm": {
     "name": "#%% This step is used to move from TTLs to frames\n"
    }
   }
  },
  {
   "cell_type": "code",
   "execution_count": 207,
   "outputs": [],
   "source": [
    "def compare_times(frames):\n",
    "    \"\"\"\n",
    "    :param frames: should be a list with three frame numbers\n",
    "    :return: timestamps of the relevent frames in the different videos\n",
    "    \"\"\"\n",
    "    timestamps = []\n",
    "    for frame in range(len(frames)):\n",
    "        time = ts_list[frame][frames[frame]]\n",
    "        timestamps.append(time)\n",
    "    return timestamps"
   ],
   "metadata": {
    "collapsed": false,
    "pycharm": {
     "name": "#%%\n"
    }
   }
  },
  {
   "cell_type": "code",
   "execution_count": null,
   "outputs": [],
   "source": [
    "def disp_multiple_vids():\n",
    "    names = [r'D:\\AzulaTrials_30_12_2020\\Trial3_VisualStim_Landscapes\\Trial_3_L\\AzulaTrial5_30_12L.mp4',\n",
    "             r'D:\\AzulaTrials_30_12_2020\\Trial3_VisualStim_Landscapes\\Trial_3_R\\AzulaTrial5_30_12.mp4',\n",
    "             r'D:\\AzulaTrials_30_12_2020\\NimrodTrial1_30_12_3_20201230T182307\\block2\\trial1\\videos\\back_20201230T183223.mp4',\n",
    "             r'D:\\AzulaTrials_30_12_2020\\NimrodTrial1_30_12_3_20201230T182307\\block2\\trial1\\videos\\left_20201230T183223.mp4'];\n",
    "    window_titles = ['first', 'second', 'third', 'fourth']\n",
    "\n",
    "\n",
    "    cap = [cv2.VideoCapture(i) for i in names]\n",
    "\n",
    "    frames = [None] * len(names);\n",
    "    gray = [None] * len(names);\n",
    "    ret = [None] * len(names);\n",
    "\n",
    "    while True:\n",
    "\n",
    "        for i,c in enumerate(cap):\n",
    "            if c is not None:\n",
    "                ret[i], frames[i] = c.read();\n",
    "\n",
    "\n",
    "        for i,f in enumerate(frames):\n",
    "            if ret[i] is True:\n",
    "                gray[i] = cv2.cvtColor(f, cv2.COLOR_BGR2GRAY)\n",
    "                cv2.imshow(window_titles[i], gray[i]);\n",
    "\n",
    "        if cv2.waitKey(1) & 0xFF == ord('q'):\n",
    "           break\n",
    "\n",
    "\n",
    "    for c in cap:\n",
    "        if c is not None:\n",
    "            c.release();\n",
    "\n",
    "    cv2.destroyAllWindows()"
   ],
   "metadata": {
    "collapsed": false,
    "pycharm": {
     "name": "#%% dispay multiple videos simultaneously\n"
    }
   }
  },
  {
   "cell_type": "code",
   "execution_count": 253,
   "outputs": [
    {
     "name": "stdout",
     "output_type": "stream",
     "text": [
      "[16.309200286865234, 16.301567077636722, 16.30776596069336]\n",
      "[0, 712, 0]\n"
     ]
    }
   ],
   "source": [
    "print(compare_times(synchronized_TTLs[0]))\n",
    "print(synchronized_TTLs[0])"
   ],
   "metadata": {
    "collapsed": false,
    "pycharm": {
     "name": "#%% Helps me understand what's going on\n"
    }
   }
  },
  {
   "cell_type": "code",
   "execution_count": 228,
   "outputs": [
    {
     "data": {
      "text/plain": "30574"
     },
     "execution_count": 228,
     "metadata": {},
     "output_type": "execute_result"
    }
   ],
   "source": [
    "last_frame_block1 = len(block1_frames) - 1109\n",
    "\n",
    "# which means that block 1 end on the\n",
    "last_frame_block1"
   ],
   "metadata": {
    "collapsed": false,
    "pycharm": {
     "name": "#%% It seems that the step between TTLs and arena videos for block1 is 1109 (synced arena video frame = synced TTL + 1109)\n"
    }
   }
  },
  {
   "cell_type": "code",
   "execution_count": 246,
   "outputs": [
    {
     "data": {
      "text/plain": "array([[    0,  1821,     0],\n       [    1,  1822,     1],\n       [    2,  1823,     2],\n       ...,\n       [30571, 32085, 29643],\n       [30572, 32086, 29644],\n       [30573, 32087, 29645]], dtype=int64)"
     },
     "execution_count": 246,
     "metadata": {},
     "output_type": "execute_result"
    }
   ],
   "source": [
    "sync_block1 = np.array(synchronized_TTLs)\n",
    "sync_block1[:,1] = sync_block1[:,1]+1109\n",
    "sync_block1 = sync_block1[0:last_frame_block1]\n",
    "sync_block1"
   ],
   "metadata": {
    "collapsed": false,
    "pycharm": {
     "name": "#%% This cell produces a synchronized array of frames (where only the eye videos correspond with timestamps)\n"
    }
   }
  },
  {
   "cell_type": "code",
   "execution_count": 272,
   "outputs": [],
   "source": [
    "block1_ts = pd.Series(ts_list[1].to_numpy()[0:len(block1_frames)-1109], index=range(1109,31683), name='Block1 frame-timestamp')\n",
    "left_eye_b1_series = pd.Series(ts_list[0][0:len(block1_ts)], index=sync_block1[:,0])\n",
    "right_eye_b1_series = pd.Series(ts_list[2][0:len(block1_ts)], index=sync_block1[:,2])\n",
    "block1_ts.to_csv(r'D:\\AzulaTrials_30_12_2020\\Analysis_Results\\Trial3\\arena_block1.csv')\n",
    "left_eye_b1_series.to_csv(r'D:\\AzulaTrials_30_12_2020\\Analysis_Results\\Trial3\\left_eye_block1.csv')\n",
    "right_eye_b1_series.to_csv(r'D:\\AzulaTrials_30_12_2020\\Analysis_Results\\Trial3\\right_eye_block1.csv')"
   ],
   "metadata": {
    "collapsed": false,
    "pycharm": {
     "name": "#%% create a block1 arenavid series with timestamps and export by the series to csvs\n"
    }
   }
  },
  {
   "cell_type": "code",
   "execution_count": 274,
   "outputs": [],
   "source": [
    "df = pd.DataFrame(sync_block1)\n",
    "df.to_csv(r'D:\\AzulaTrials_30_12_2020\\Analysis_Results\\Trial3\\frame_sync.csv')"
   ],
   "metadata": {
    "collapsed": false,
    "pycharm": {
     "name": "#%% export the synchronized block\n"
    }
   }
  },
  {
   "cell_type": "code",
   "execution_count": 289,
   "outputs": [
    {
     "data": {
      "text/plain": "array([0., 0., 0., ..., 0., 0., 0.])"
     },
     "execution_count": 289,
     "metadata": {},
     "output_type": "execute_result"
    }
   ],
   "source": [
    "SA = np.array(synchronization_accuracy)\n",
    "SA[:,0]"
   ],
   "metadata": {
    "collapsed": false,
    "pycharm": {
     "name": "#%% work with arrays and not lists\n"
    }
   }
  },
  {
   "cell_type": "code",
   "execution_count": 298,
   "outputs": [
    {
     "data": {
      "text/plain": "[<matplotlib.lines.Line2D at 0x20609cb1d00>]"
     },
     "execution_count": 298,
     "metadata": {},
     "output_type": "execute_result"
    },
    {
     "data": {
      "text/plain": "<Figure size 2160x360 with 1 Axes>",
      "image/png": "[encoded data removed]"
     },
     "metadata": {},
     "output_type": "display_data"
    }
   ],
   "source": [
    "f = plt.figure(figsize=(30,5))\n",
    "plt.plot(SA[:,2])\n",
    "\n"
   ],
   "metadata": {
    "collapsed": false,
    "pycharm": {
     "name": "#%%\n"
    }
   }
  },
  {
   "cell_type": "code",
   "execution_count": null,
   "outputs": [],
   "source": [
    "def TTL_timeseries_synchronization(ts_list,anchor_vid_position):\n",
    "    \"\"\"\n",
    "    param: ts_list: list of timeseries (one for each video) representing rising edge events in the open ephys file\n",
    "    param: anchor_vid_position: the video from the ts_list to use as a sync reference (all other video frames will be fitted to this video)\n",
    "    returns: synchronized_TTLs: np.array where each column represents a video and each row represents the best fit for the anchor video frames (timewise)\n",
    "    \"\"\"\n",
    "\n",
    "    anchor_vid = ts_list[anchor_vid_position].to_numpy()\n",
    "    synchronized_TTLs = []\n",
    "    synchronization_accuracy = []\n",
    "    for frame in range(len(anchor_vid)):\n",
    "        time = anchor_vid[frame]\n",
    "        if frame % 50 == 0:\n",
    "            print(f'frame {frame} out of {len(anchor_vid)}',end='\\r', flush=True)\n",
    "        sync_frame = []\n",
    "        sync_accuracy = []\n",
    "        for vid in ts_list:\n",
    "            f , a = get_frame_from_time(vid,time)\n",
    "            sync_frame.append(f)\n",
    "            sync_accuracy.append(a)\n",
    "        synchronized_TTLs.append(sync_frame)\n",
    "        synchronization_accuracy.append(sync_accuracy)\n",
    "    synchronized_TTLs = np.array(synchronized_TTLs)\n",
    "    synchronization_accuracy = np.array(synchronization_accuracy)\n",
    "\n",
    "    return synchronized_TTLs, synchronization_accuracy"
   ],
   "metadata": {
    "collapsed": false,
    "pycharm": {
     "name": "#%% synchronization function\n"
    }
   }
  },
  {
   "cell_type": "code",
   "execution_count": null,
   "outputs": [],
   "source": [],
   "metadata": {
    "collapsed": false,
    "pycharm": {
     "name": "#%%"
    }
   }
  }
 ],
 "metadata": {
  "kernelspec": {
   "display_name": "Python 3",
   "language": "python",
   "name": "python3"
  },
  "language_info": {
   "codemirror_mode": {
    "name": "ipython",
    "version": 2
   },
   "file_extension": ".py",
   "mimetype": "text/x-python",
   "name": "python",
   "nbconvert_exporter": "python",
   "pygments_lexer": "ipython2",
   "version": "2.7.6"
  }
 },
 "nbformat": 4,
 "nbformat_minor": 0
}