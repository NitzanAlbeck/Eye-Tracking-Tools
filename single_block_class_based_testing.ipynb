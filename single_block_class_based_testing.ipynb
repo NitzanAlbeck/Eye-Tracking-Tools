{
 "cells": [
  {
   "cell_type": "code",
   "metadata": {
    "collapsed": true,
    "pycharm": {
     "name": "#%%\n"
    }
   },
   "source": [
    "from block_sync_class import *\n",
    "from bokeh.plotting import figure, show\n",
    "import pickle\n",
    "import time"
   ],
   "execution_count": 2,
   "outputs": []
  },
  {
   "cell_type": "code",
   "execution_count": 3,
   "outputs": [
    {
     "name": "stdout",
     "output_type": "stream",
     "text": [
      "instantiated block number 7 at Path: D:\\experiments\\Animal_4\\18_07_2021\\block_7\n"
     ]
    }
   ],
   "source": [
    "block = BlockSync(animal_num='4',\n",
    "                  experiment_date='18_07_2021',\n",
    "                  block_num='7',\n",
    "                  path_to_animal_folder=r'D:\\\\experiments\\\\')"
   ],
   "metadata": {
    "collapsed": false,
    "pycharm": {
     "name": "#%%\n"
    }
   }
  },
  {
   "cell_type": "code",
   "execution_count": 4,
   "outputs": [
    {
     "name": "stdout",
     "output_type": "stream",
     "text": [
      "Arena video Names:\n",
      "back_20210718_132946.mp4\n",
      "left_20210718_132946.mp4\n",
      "right_20210718_132946.mp4\n",
      "top_20210718_132946.mp4\n",
      "converting videos...\n",
      "converting files: ['D:\\\\experiments\\\\Animal_4\\\\18_07_2021\\\\block_7\\\\eye_videos\\\\LE\\\\vstim_pv4_7_640x480_60hz_experiment_1_recording_0\\\\vstim_pv4_7.h264', 'D:\\\\experiments\\\\Animal_4\\\\18_07_2021\\\\block_7\\\\eye_videos\\\\RE\\\\vstim_pv4_7_640x480_60hz_experiment_1_recording_0\\\\vstim_pv4_7.h264']\n",
      "The file D:\\experiments\\Animal_4\\18_07_2021\\block_7\\eye_videos\\RE\\vstim_pv4_7_640x480_60hz_experiment_1_recording_0\\vstim_pv4_7.mp4 already exists, no conversion necessary\n",
      "Validating videos...\n"
     ]
    },
    {
     "name": "stderr",
     "output_type": "stream",
     "text": [
      "  1%|          | 101/12877 [00:00<00:12, 1009.74it/s]"
     ]
    },
    {
     "name": "stdout",
     "output_type": "stream",
     "text": [
      "The video named vstim_pv4_7_LE.mp4 has reported 15250 frames and has 15248 frames, it has dropped 2 frames\n",
      "The video named vstim_pv4_7.mp4 has reported 15248 frames and has 15246 frames, it has dropped 2 frames\n",
      "Synchronizing the different arena videos\n"
     ]
    },
    {
     "name": "stderr",
     "output_type": "stream",
     "text": [
      "100%|██████████| 12877/12877 [00:13<00:00, 985.64it/s]"
     ]
    },
    {
     "name": "stdout",
     "output_type": "stream",
     "text": [
      "The anchor video used was \"back_20210718_132946.mp4\"\n",
      "working on video D:\\experiments\\Animal_4\\18_07_2021\\block_7\\arena_videos\\back_20210718_132946.mp4\n",
      "Frame number 3 of 12877\r"
     ]
    },
    {
     "name": "stderr",
     "output_type": "stream",
     "text": [
      "\n"
     ]
    },
    {
     "name": "stdout",
     "output_type": "stream",
     "text": [
      "working on video D:\\experiments\\Animal_4\\18_07_2021\\block_7\\arena_videos\\left_20210718_132946.mp4\n",
      "working on video D:\\experiments\\Animal_4\\18_07_2021\\block_7\\arena_videos\\right_20210718_132946.mp4\n",
      "working on video D:\\experiments\\Animal_4\\18_07_2021\\block_7\\arena_videos\\top_20210718_132946.mp4\n",
      "done, frame_val_list contains 4 objects\n"
     ]
    }
   ],
   "source": [
    "block.handle_arena_files()\n",
    "block.handle_eye_videos()\n",
    "block.synchronize_arena_timestamps()\n",
    "block.create_arena_brightness_df(250, export=True)"
   ],
   "metadata": {
    "collapsed": false,
    "pycharm": {
     "name": "#%%\n"
    }
   }
  },
  {
   "cell_type": "code",
   "execution_count": 5,
   "outputs": [
    {
     "name": "stderr",
     "output_type": "stream",
     "text": [
      "  1%|▏         | 180/13801 [00:00<00:07, 1799.51it/s]"
     ]
    },
    {
     "name": "stdout",
     "output_type": "stream",
     "text": [
      "The first block frame came from the Arena_video\n",
      "The last frame came from the Arena Video\n",
      "synchronizing 230.01318359375 seconds of videos...\n"
     ]
    },
    {
     "name": "stderr",
     "output_type": "stream",
     "text": [
      "100%|██████████| 13801/13801 [00:08<00:00, 1627.70it/s]\n"
     ]
    },
    {
     "name": "stdout",
     "output_type": "stream",
     "text": [
      "working on video D:\\experiments\\Animal_4\\18_07_2021\\block_7\\eye_videos\\LE\\vstim_pv4_7_640x480_60hz_experiment_1_recording_0\\vstim_pv4_7_LE.mp4\n",
      "done, frame_val_list contains 1 objects\n",
      "working on video D:\\experiments\\Animal_4\\18_07_2021\\block_7\\eye_videos\\RE\\vstim_pv4_7_640x480_60hz_experiment_1_recording_0\\vstim_pv4_7.mp4\n",
      "done, frame_val_list contains 1 objects\n"
     ]
    }
   ],
   "source": [
    "block.import_open_ephys_events()\n",
    "block.synchronize_block()\n",
    "block.update_arena_bdf()\n",
    "block.create_eye_brightness_df(30)"
   ],
   "metadata": {
    "collapsed": false,
    "pycharm": {
     "name": "#%%\n"
    }
   }
  },
  {
   "cell_type": "code",
   "execution_count": null,
   "outputs": [],
   "source": [
    "\n",
    "\n"
   ],
   "metadata": {
    "collapsed": false,
    "pycharm": {
     "name": "#%%\n"
    }
   }
  },
  {
   "cell_type": "code",
   "execution_count": null,
   "outputs": [],
   "source": [
    "\n",
    "\n"
   ],
   "metadata": {
    "collapsed": false,
    "pycharm": {
     "name": "#%%\n"
    }
   }
  },
  {
   "cell_type": "code",
   "execution_count": null,
   "outputs": [],
   "source": [
    "\n",
    "\n"
   ],
   "metadata": {
    "collapsed": false,
    "pycharm": {
     "name": "#%%\n"
    }
   }
  },
  {
   "cell_type": "code",
   "execution_count": 5,
   "outputs": [],
   "source": [
    "block.validate_eye_synchronization()"
   ],
   "metadata": {
    "collapsed": false,
    "pycharm": {
     "name": "#%%\n"
    }
   }
  },
  {
   "cell_type": "code",
   "execution_count": 6,
   "outputs": [],
   "source": [
    "block.synced_videos_validated"
   ],
   "metadata": {
    "collapsed": false,
    "pycharm": {
     "name": "#%%\n"
    }
   }
  },
  {
   "cell_type": "code",
   "execution_count": 7,
   "outputs": [
    {
     "name": "stdout",
     "output_type": "stream",
     "text": [
      "-4.0\n",
      "-3.8\n",
      "-3.5999999999999996\n",
      "-3.3999999999999995\n",
      "-3.1999999999999993\n",
      "-2.999999999999999\n",
      "-2.799999999999999\n",
      "-2.5999999999999988\n",
      "-2.3999999999999986\n",
      "-2.1999999999999984\n",
      "-1.9999999999999984\n",
      "-1.9999999999999984\n",
      "The suspect list is: [10907]\n",
      "the search range is range(10857, 10957)\n",
      "index inside range = (array([53, 54], dtype=int64),)\n",
      "threshold used: -2\n",
      "done, left ind is : 10910\n",
      "index inside range = (array([50, 51], dtype=int64),)\n",
      "threshold used: -3\n",
      "done, right ind is : 10907\n",
      "right eye drift is 0 frames\n",
      "left eye drift is 3 frames\n",
      "correcting synced_videos...\n",
      "The method intends to move the right eye video 0 frames and the \n",
      "Left video 3\n"
     ]
    }
   ],
   "source": [
    "block.synchronize_by_led_blink(threshold_value_for_eyes=30,arena_vid_to_use=block.arena_vidnames[3])"
   ],
   "metadata": {
    "collapsed": false,
    "pycharm": {
     "name": "#%%\n"
    }
   }
  },
  {
   "cell_type": "code",
   "execution_count": 8,
   "outputs": [],
   "source": [
    "block.create_synced_videos_validated()"
   ],
   "metadata": {
    "collapsed": false,
    "pycharm": {
     "name": "#%%\n"
    }
   }
  },
  {
   "cell_type": "code",
   "execution_count": 9,
   "outputs": [],
   "source": [
    "topvid = str(block.arena_videos[3])\n",
    "backvid = str(block.arena_videos[0])\n",
    "re_vid = block.re_videos[0]\n",
    "le_vid = block.le_videos[0]"
   ],
   "metadata": {
    "collapsed": false,
    "pycharm": {
     "name": "#%%\n"
    }
   }
  },
  {
   "cell_type": "code",
   "execution_count": null,
   "outputs": [],
   "source": [
    "block.create_synced_video('4vid_concatl_block7',\n",
    "                          re_vid,\n",
    "                          le_vid,\n",
    "                          topvid,\n",
    "                          backvid,block.block_starts,block.block_ends,overlay_frame_numbers=False)"
   ],
   "metadata": {
    "collapsed": false,
    "pycharm": {
     "name": "#%%\n"
    }
   }
  },
  {
   "cell_type": "code",
   "execution_count": 37,
   "outputs": [
    {
     "data": {
      "text/plain": "(array([ 1068, 13945], dtype=int64),)"
     },
     "execution_count": 37,
     "metadata": {},
     "output_type": "execute_result"
    }
   ],
   "source": [
    "ts_df = pd.DataFrame(block.ts_dict)\n",
    "ttl_breaks = np.where(np.diff(ts_df.Arena_TTL.values) > 0.5)\n",
    "ttl_breaks"
   ],
   "metadata": {
    "collapsed": false,
    "pycharm": {
     "name": "#%%\n"
    }
   }
  },
  {
   "cell_type": "code",
   "execution_count": 47,
   "outputs": [
    {
     "data": {
      "text/plain": "1275.9451904296875"
     },
     "execution_count": 47,
     "metadata": {},
     "output_type": "execute_result"
    }
   ],
   "source": [
    "\n",
    "# determine which eye camera shot last:\n",
    "if block.ts_dict['L_eye_TTL'].iloc[-1] - block.ts_dict['R_eye_TTL'].iloc[-1] < 0:\n",
    "    first_to_end = 'L_eye_TTL'\n",
    "else:\n",
    "    first_to_end = 'R_eye_TTL'\n",
    "# determine if the arena break in ttls happened before or after the last eye to start\n",
    "arena_ends = block.ts_dict['Arena_TTL'][ttl_breaks[0][1]]\n",
    "if block.ts_dict[first_to_end].iloc[-1] < arena_ends:\n",
    "    block_ends = block.ts_dict[first_to_end].iloc[-1]\n",
    "else:\n",
    "    block_ens = arena_ends\n"
   ],
   "metadata": {
    "collapsed": false,
    "pycharm": {
     "name": "#%%\n"
    }
   }
  },
  {
   "cell_type": "code",
   "execution_count": 54,
   "outputs": [
    {
     "data": {
      "text/plain": "1518.2672119140625"
     },
     "execution_count": 54,
     "metadata": {},
     "output_type": "execute_result"
    }
   ],
   "source": [
    "block.ts_dict['R_eye_TTL'].iloc[-1]\n"
   ],
   "metadata": {
    "collapsed": false,
    "pycharm": {
     "name": "#%%\n"
    }
   }
  }
 ],
 "metadata": {
  "kernelspec": {
   "display_name": "Python 3",
   "language": "python",
   "name": "python3"
  },
  "language_info": {
   "codemirror_mode": {
    "name": "ipython",
    "version": 2
   },
   "file_extension": ".py",
   "mimetype": "text/x-python",
   "name": "python",
   "nbconvert_exporter": "python",
   "pygments_lexer": "ipython2",
   "version": "2.7.6"
  }
 },
 "nbformat": 4,
 "nbformat_minor": 0
}